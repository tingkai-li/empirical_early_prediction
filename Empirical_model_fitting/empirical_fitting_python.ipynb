{
 "cells": [
  {
   "cell_type": "markdown",
   "metadata": {},
   "source": [
    "# Fitting the empirical model to the entire dataset and only the training set to obtain the fitting accuracy and fitted empirical parameters"
   ]
  },
  {
   "cell_type": "code",
   "execution_count": 1,
   "metadata": {},
   "outputs": [],
   "source": [
    "import numpy as np\n",
    "from scipy.optimize import least_squares\n",
    "from lmfit import minimize, Parameters\n",
    "\n",
    "import pandas as pd\n",
    "\n",
    "import matplotlib.pyplot as plt\n"
   ]
  },
  {
   "cell_type": "markdown",
   "metadata": {},
   "source": [
    "Load interpolated capacity data and create an additional subset of data for only training cells"
   ]
  },
  {
   "cell_type": "code",
   "execution_count": 3,
   "metadata": {},
   "outputs": [],
   "source": [
    "data = pd.read_csv(\"../Data_preprocessing/NMC_data_interp_clean.csv\")\n",
    "# Find the locations for training data\n",
    "training_cells = pd.read_csv(\"../Data_preprocessing/training.csv\",header=None).to_numpy(dtype=str).reshape(-1,).tolist()\n",
    "mask = np.isin(data.cellID,training_cells)\n",
    "data_train = data[mask]"
   ]
  },
  {
   "cell_type": "markdown",
   "metadata": {},
   "source": [
    "Define the bilevel optimization algorithm"
   ]
  },
  {
   "cell_type": "code",
   "execution_count": 3,
   "metadata": {},
   "outputs": [],
   "source": [
    "def optimize_bilevel(x, y, cellNums, modelEq, p0_gbl, p0_lcl,lbs,ubs):\n",
    "    # Scope p_lcl globally as in the original MATLAB code\n",
    "    unique_cells = np.unique(cellNums)\n",
    "    p_lcl = np.ones((len(unique_cells), len(p0_lcl))) * p0_lcl\n",
    "    y_fit_gbl = np.zeros_like(y)\n",
    "\n",
    "    # Define the global equation for fitting\n",
    "    def global_eq(p_gbl, x):\n",
    "        y_fit = np.zeros(x.shape[0])\n",
    "        iter_ = 0\n",
    "        for cellNum in unique_cells:\n",
    "            mask = (cellNums == cellNum)\n",
    "            x_lcl = x[mask]\n",
    "            y_lcl = y[mask]\n",
    "            \n",
    "            # Local equation based on the model\n",
    "            def local_eq(params, x_lcl):\n",
    "                p_lcl_iter = params.valuesdict()\n",
    "                return modelEq(p_gbl, p_lcl_iter, x_lcl)\n",
    "\n",
    "            # Using lmfit for local optimization\n",
    "            params = Parameters()\n",
    "            for i in range(len(p0_lcl)):\n",
    "                params.add(f'p_lcl_{i}', value=p_lcl[iter_, i], min=lbs[i], max=ubs[i])\n",
    "            # Minimize residuals: difference between actual y and model prediction            \n",
    "            result = minimize(lambda params: y_lcl - local_eq(params, x_lcl),\n",
    "                            params, \n",
    "                            method='leastsq')\n",
    "\n",
    "            # Update p_lcl with the optimized result\n",
    "            p_lcl[iter_] = np.array([result.params[f'p_lcl_{i}'].value for i in range(len(p0_lcl))])\n",
    "            # Compute the fitted y values for this cell\n",
    "            y_fit[mask] = local_eq(result.params, x_lcl)\n",
    "            iter_ += 1\n",
    "\n",
    "        # Update global fitted y\n",
    "        nonlocal y_fit_gbl\n",
    "        y_fit_gbl = y_fit\n",
    "        return y - y_fit  # Return residuals (y_true - y_predicted)\n",
    "\n",
    "    # Optimize the global equation\n",
    "    res_global = least_squares(global_eq, p0_gbl, args=(x,), bounds=(0.4, 0.6)) # Bounds for the global parameter is (0.4,0.6)\n",
    "    p_gbl = res_global.x\n",
    "    y_fit = y_fit_gbl # Fitted global y values after optimization\n",
    "    R = y - y_fit # Residuals (y_true - y_predicted)\n",
    "\n",
    "    # Fit metrics\n",
    "    MSD = np.sum(R) / len(R)\n",
    "    MAE = np.mean(np.abs(R))\n",
    "    percentError = np.divide(R, y, out=np.zeros_like(R), where=y!=0)\n",
    "    MAPE = np.mean(np.abs(percentError[~np.isnan(percentError) & ~np.isinf(percentError)]))\n",
    "    R2 = 1 - np.sum(R**2) / np.sum((y - np.mean(y))**2)\n",
    "    DOF = len(y) - (len(p_gbl) + np.size(p_lcl))\n",
    "    R2adj = 1 - (1 - R2) * (len(y) - 1) / DOF\n",
    "    MSE = np.sum(R**2) / DOF\n",
    "    RMSE = np.sqrt(MSE)\n",
    "\n",
    "    # Assemble the result as a dictionary\n",
    "    fitResult = {\n",
    "        'x': x,\n",
    "        'y': y,\n",
    "        'y_fit': y_fit,\n",
    "        'R': R,\n",
    "        'p_gbl': p_gbl,\n",
    "        'p_lcl': p_lcl,\n",
    "        'cellID_p_lcl': unique_cells,\n",
    "        'MAE': MAE,\n",
    "        'MAPE': MAPE,\n",
    "        'R2': R2,\n",
    "        'R2adj': R2adj,\n",
    "        'MSE': MSE,\n",
    "        'RMSE': RMSE,\n",
    "        'MSD': MSD,\n",
    "    }\n",
    "\n",
    "    return fitResult"
   ]
  },
  {
   "cell_type": "markdown",
   "metadata": {},
   "source": [
    "Define the empirical model for fitting and bounds for local parameters"
   ]
  },
  {
   "cell_type": "code",
   "execution_count": 4,
   "metadata": {},
   "outputs": [],
   "source": [
    "def empirical_model(p_gbl, p_lcl, x):\n",
    "    return 1 - p_lcl['p_lcl_0']*x**p_gbl[0] - 1/(1+np.exp((p_lcl['p_lcl_1']-x)/(p_lcl['p_lcl_2'])))\n",
    "\n",
    "# Lower bounds for three local parameters\n",
    "lbs = [1e-6,1e2,1e1] # Avoid absolute 0 leading to numerical errors\n",
    "ubs = [1,2000,500]\n",
    "\n",
    "# Initial guess for p_gbl and p_lcl\n",
    "p0_gbl = np.array([0.5])\n",
    "p0_lcl = np.array([2e-3,200,50])"
   ]
  },
  {
   "cell_type": "markdown",
   "metadata": {},
   "source": [
    "# Fit the entire dataset"
   ]
  },
  {
   "cell_type": "code",
   "execution_count": 5,
   "metadata": {},
   "outputs": [
    {
     "name": "stdout",
     "output_type": "stream",
     "text": [
      "Fitting MAE for the entire dataset: 0.566%\n"
     ]
    }
   ],
   "source": [
    "x_all = np.abs(data.Ah_throughput.to_numpy())\n",
    "y_all = np.abs(data.qdis.to_numpy())\n",
    "cell_num_all = data.cellID\n",
    "\n",
    "fit_result_all = optimize_bilevel(x_all,y_all,cell_num_all,empirical_model,p0_gbl,p0_lcl,lbs,ubs)\n",
    "print(f\"Fitting MAE for the entire dataset: {fit_result_all['MAE']*100:.3f}%\")"
   ]
  },
  {
   "cell_type": "markdown",
   "metadata": {},
   "source": [
    "# Fit only the training set"
   ]
  },
  {
   "cell_type": "code",
   "execution_count": 6,
   "metadata": {},
   "outputs": [
    {
     "name": "stdout",
     "output_type": "stream",
     "text": [
      "Fitting MAE for the training set: 0.634%\n"
     ]
    }
   ],
   "source": [
    "x_train = np.abs(data_train.Ah_throughput.to_numpy())\n",
    "y_train = np.abs(data_train.qdis.to_numpy())\n",
    "cell_num_train = data_train.cellID\n",
    "\n",
    "fit_result_train = optimize_bilevel(x_train,y_train,cell_num_train,empirical_model,p0_gbl,p0_lcl,lbs,ubs)\n",
    "print(f\"Fitting MAE for the training set: {fit_result_train['MAE']*100:.3f}%\")"
   ]
  },
  {
   "cell_type": "markdown",
   "metadata": {},
   "source": [
    "# Save results"
   ]
  },
  {
   "cell_type": "code",
   "execution_count": null,
   "metadata": {},
   "outputs": [],
   "source": [
    "# Save fitted parameters for model training and evaluation\n",
    "b_fitted_all = pd.DataFrame(np.hstack([fit_result_all['cellID_p_lcl'].reshape(-1,1),fit_result_all['p_lcl']]),columns=['Cell','b1','b2','b3'])\n",
    "b_fitted_all.to_csv('Empirical_parameters_all_py.csv')\n",
    "np.savetxt('Empirical_parameters_global_all_py.csv',fit_result_all['p_gbl'],delimiter=\",\")\n",
    "b_fitted_train = pd.DataFrame(np.hstack([fit_result_train['cellID_p_lcl'].reshape(-1,1),fit_result_train['p_lcl']]),columns=['Cell','b1','b2','b3'])\n",
    "b_fitted_train.to_csv('Empirical_parameters_train_py.csv')\n",
    "np.savetxt('Empirical_parameters_global_train_py.csv',fit_result_train['p_gbl'],delimiter=\",\")"
   ]
  }
 ],
 "metadata": {
  "kernelspec": {
   "display_name": "Python 3",
   "language": "python",
   "name": "python3"
  },
  "language_info": {
   "codemirror_mode": {
    "name": "ipython",
    "version": 3
   },
   "file_extension": ".py",
   "mimetype": "text/x-python",
   "name": "python",
   "nbconvert_exporter": "python",
   "pygments_lexer": "ipython3",
   "version": "3.10.11"
  }
 },
 "nbformat": 4,
 "nbformat_minor": 2
}
