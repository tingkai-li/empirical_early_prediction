{
 "cells": [
  {
   "cell_type": "markdown",
   "metadata": {},
   "source": [
    "# Case study for sequential optimization approaches using multitask elastic net and neural network, with 10-fold cross validation"
   ]
  },
  {
   "cell_type": "code",
   "execution_count": 2,
   "metadata": {},
   "outputs": [],
   "source": [
    "import numpy as np\n",
    "import scipy\n",
    "import matplotlib.pyplot as plt\n",
    "\n",
    "from sklearn.preprocessing import StandardScaler,MinMaxScaler\n",
    "from sklearn.metrics import mean_absolute_error,root_mean_squared_error\n",
    "from sklearn.decomposition import PCA\n",
    "from sklearn.linear_model import MultiTaskElasticNetCV\n",
    "import pandas as pd\n",
    "\n",
    "import torch\n",
    "import torch.nn as nn\n",
    "import torch.optim as optim\n",
    "from torch.utils.data import DataLoader,TensorDataset,random_split\n",
    "\n",
    "import optuna\n",
    "import random\n",
    "\n",
    "import pickle"
   ]
  },
  {
   "cell_type": "markdown",
   "metadata": {},
   "source": [
    "Import cell lists and features"
   ]
  },
  {
   "cell_type": "code",
   "execution_count": null,
   "metadata": {},
   "outputs": [],
   "source": [
    "training_cells = pd.read_csv(\"../Data_preprocessing/training.csv\",header=None).to_numpy(dtype=str).reshape(-1,).tolist()\n",
    "test_in_cells = pd.read_csv(\"../Data_preprocessing/test_in.csv\",header=None).to_numpy(dtype=str).reshape(-1,).tolist()\n",
    "test_out_cells = pd.read_csv(\"../Data_preprocessing/test_out.csv\",header=None).to_numpy(dtype=str).reshape(-1,).tolist()\n",
    "\n",
    "num_training_cells = len(training_cells)\n",
    "num_test_in_cells = len(test_in_cells)\n",
    "num_test_out_cells = len(test_out_cells)\n",
    "\n",
    "X_train_PCA = np.loadtxt(\"Processed_input_output/X_train_PCA.csv\",delimiter=\",\")\n",
    "X_test_in_PCA = np.loadtxt(\"Processed_input_output/X_test_in_PCA.csv\",delimiter=\",\")\n",
    "X_test_out_PCA = np.loadtxt(\"Processed_input_output/X_test_out_PCA.csv\",delimiter=\",\")\n",
    "\n",
    "N_train = np.loadtxt(\"Processed_input_output/N_train.csv\",delimiter=\",\")\n",
    "N_test_in = np.loadtxt(\"Processed_input_output/N_test_in.csv\",delimiter=\",\")\n",
    "N_test_out = np.loadtxt(\"Processed_input_output/N_test_out.csv\",delimiter=\",\")\n",
    "\n",
    "Q_train = np.array([np.linspace(1,0.8,21)]*num_training_cells)\n",
    "Q_test_in = np.array([np.linspace(1,0.8,21)]*num_test_in_cells)\n",
    "Q_test_out = np.array([np.linspace(1,0.8,21)]*num_test_out_cells)"
   ]
  },
  {
   "cell_type": "markdown",
   "metadata": {},
   "source": [
    "Scale and transform training labels (b values)"
   ]
  },
  {
   "cell_type": "code",
   "execution_count": null,
   "metadata": {},
   "outputs": [],
   "source": [
    "y_train = np.loadtxt(\"Processed_input_output/b_train.csv\",delimiter=\",\")\n",
    "y_scaler = StandardScaler()\n",
    "y_train_scaled = y_scaler.fit_transform(np.log(y_train))"
   ]
  },
  {
   "cell_type": "code",
   "execution_count": 20,
   "metadata": {},
   "outputs": [],
   "source": [
    "with open('training_cells_CV.pkl','rb') as f:\n",
    "    training_cells_CV = pickle.load(f)\n",
    "\n",
    "with open('val_cells_CV.pkl','rb') as f:\n",
    "    val_cells_CV = pickle.load(f)\n"
   ]
  },
  {
   "cell_type": "markdown",
   "metadata": {},
   "source": [
    "# Multitask elastic net model"
   ]
  },
  {
   "cell_type": "markdown",
   "metadata": {},
   "source": [
    "Train the cross-validated multitask elastic net model"
   ]
  },
  {
   "cell_type": "code",
   "execution_count": 62,
   "metadata": {},
   "outputs": [
    {
     "name": "stdout",
     "output_type": "stream",
     "text": [
      "best alpha: 0.6824577644748759, best l1_ratio: 0.1\n"
     ]
    }
   ],
   "source": [
    "# Use predefined training and validation splits\n",
    "cv_eln = []\n",
    "for i in range(10):\n",
    "    cv_eln.append((training_cells_CV[i],val_cells_CV[i]))\n",
    "\n",
    "model = MultiTaskElasticNetCV(l1_ratio=[.1, .2, .5, .7, .9, .95, .99, 1],cv=cv_eln,n_jobs=-1,random_state=42,max_iter=1000)\n",
    "# model.fit(X_train_PCA_mask,y_train_scaled)\n",
    "model.fit(X_train_PCA,y_train_scaled)\n",
    "\n",
    "print(f\"best alpha: {model.alpha_}, best l1_ratio: {model.l1_ratio_}\")"
   ]
  },
  {
   "cell_type": "markdown",
   "metadata": {},
   "source": [
    "Predict parameters using the trained elastic net model"
   ]
  },
  {
   "cell_type": "code",
   "execution_count": 59,
   "metadata": {},
   "outputs": [],
   "source": [
    "y_train_pred_eln_scaled = model.predict(X_train_PCA)\n",
    "y_train_pred_eln = np.exp(y_scaler.inverse_transform(y_train_pred_eln_scaled))\n",
    "\n",
    "y_test_in_pred_eln_scaled = model.predict(X_test_in_PCA)\n",
    "y_test_in_pred_eln = np.exp(y_scaler.inverse_transform(y_test_in_pred_eln_scaled))\n",
    "\n",
    "y_test_out_pred_eln_scaled = model.predict(X_test_out_PCA)\n",
    "y_test_out_pred_eln = np.exp(y_scaler.inverse_transform(y_test_out_pred_eln_scaled))"
   ]
  },
  {
   "cell_type": "markdown",
   "metadata": {},
   "source": [
    "Save the predicted empirical parameters"
   ]
  },
  {
   "cell_type": "code",
   "execution_count": null,
   "metadata": {},
   "outputs": [],
   "source": [
    "b_train_pred_eln_df = pd.DataFrame(y_train_pred_eln,index=training_cells)\n",
    "b_test_in_pred_eln_df = pd.DataFrame(y_test_in_pred_eln,index=test_in_cells)\n",
    "b_test_out_pred_eln_df = pd.DataFrame(y_test_out_pred_eln,index=test_out_cells)\n",
    "\n",
    "# Save as csv files\n",
    "b_train_pred_eln_df.to_csv(\"Empirical_parameter_results/b_train_seq_eln_V2.csv\")\n",
    "b_test_in_pred_eln_df.to_csv(\"Empirical_parameter_results/b_test_in_seq_eln_V2.csv\")\n",
    "b_test_out_pred_eln_df.to_csv(\"Empirical_parameter_results/b_test_out_seq_eln_V2.csv\")"
   ]
  },
  {
   "cell_type": "markdown",
   "metadata": {},
   "source": [
    "Construct the predicted trajectory"
   ]
  },
  {
   "cell_type": "code",
   "execution_count": null,
   "metadata": {},
   "outputs": [],
   "source": [
    "a = np.loadtxt('../Empirical_model_fitting/Empirical_parameters_global_train_py.csv').item()\n",
    "\n",
    "def empirical_model_curve_fit(N_eq,b1,b2,b3):\n",
    "    # b1,b2,b3 = b\n",
    "    return 1 - b1*N_eq**a - 1/(1+np.exp((b2-N_eq)/(b3)))\n",
    "\n",
    "Q_train_pred = np.ones_like(Q_train)\n",
    "Q_test_in_pred = np.ones_like(Q_test_in)\n",
    "Q_test_out_pred = np.ones_like(Q_test_out)\n",
    "\n",
    "train_RMSE = []\n",
    "test_in_RMSE = []\n",
    "test_out_RMSE = []\n",
    "\n",
    "train_MAE = []\n",
    "test_in_MAE = []\n",
    "test_out_MAE = []\n",
    "\n",
    "for iii,b in enumerate(y_train_pred_eln):\n",
    "    Q_train_pred[iii,:] = empirical_model_curve_fit(np.abs(N_train[iii]),b[0],b[1],b[2])\n",
    "    train_RMSE.append(root_mean_squared_error(Q_train[iii],Q_train_pred[iii]))\n",
    "    train_MAE.append(mean_absolute_error(Q_train[iii],Q_train_pred[iii]))\n",
    "    \n",
    "for iii,b in enumerate(y_test_in_pred_eln):\n",
    "    Q_test_in_pred[iii,:] = empirical_model_curve_fit(np.abs(N_test_in[iii]),b[0],b[1],b[2])\n",
    "    test_in_RMSE.append(root_mean_squared_error(Q_test_in[iii],Q_test_in_pred[iii]))\n",
    "    test_in_MAE.append(mean_absolute_error(Q_test_in[iii],Q_test_in_pred[iii]))\n",
    "    \n",
    "for iii,b in enumerate(y_test_out_pred_eln):\n",
    "    Q_test_out_pred[iii,:] = empirical_model_curve_fit(np.abs(N_test_out[iii]),b[0],b[1],b[2])\n",
    "    test_out_RMSE.append(root_mean_squared_error(Q_test_out[iii],Q_test_out_pred[iii]))\n",
    "    test_out_MAE.append(mean_absolute_error(Q_test_out[iii],Q_test_out_pred[iii]))"
   ]
  },
  {
   "cell_type": "code",
   "execution_count": 61,
   "metadata": {},
   "outputs": [
    {
     "name": "stdout",
     "output_type": "stream",
     "text": [
      "Mean MAE Training: 2.32%\n",
      "Mean MAE High-DoD: 2.63%\n",
      "Mean MAE Low-DoD: 13.62%\n",
      "Mean RMSE Training: 3.08%\n",
      "Mean RMSE High-DoD: 3.46%\n",
      "Mean RMSE Low-DoD: 19.28%\n"
     ]
    }
   ],
   "source": [
    "\n",
    "print(f'Mean MAE Training: {np.mean(train_MAE)*100:.2f}%')\n",
    "print(f'Mean MAE High-DoD: {np.mean(test_in_MAE)*100:.2f}%')\n",
    "print(f'Mean MAE Low-DoD: {np.mean(test_out_MAE)*100:.2f}%')\n",
    "\n",
    "print(f'Mean RMSE Training: {np.mean(train_RMSE)*100:.2f}%')\n",
    "print(f'Mean RMSE High-DoD: {np.mean(test_in_RMSE)*100:.2f}%')\n",
    "print(f'Mean RMSE Low-DoD: {np.mean(test_out_RMSE)*100:.2f}%')\n"
   ]
  },
  {
   "cell_type": "markdown",
   "metadata": {},
   "source": [
    "# Neural network"
   ]
  },
  {
   "cell_type": "markdown",
   "metadata": {},
   "source": [
    "Configure neural network structure"
   ]
  },
  {
   "cell_type": "code",
   "execution_count": 29,
   "metadata": {},
   "outputs": [],
   "source": [
    "seed_ = 42\n",
    "random.seed(seed_)\n",
    "torch.manual_seed(seed_)\n",
    "np.random.seed(seed_)\n",
    "torch.use_deterministic_algorithms(True)"
   ]
  },
  {
   "cell_type": "code",
   "execution_count": 30,
   "metadata": {},
   "outputs": [],
   "source": [
    "# Define the network\n",
    "class network(nn.Module):\n",
    "    def __init__(self, input_size, hidden_sizes, output_size):\n",
    "        super(network, self).__init__()\n",
    "        # Define the layers\n",
    "        self.layers = nn.ModuleList()\n",
    "        self.layers.append(nn.Linear(input_size, hidden_sizes[0]))  # Input layer\n",
    "        for i in range(1, len(hidden_sizes)):\n",
    "            self.layers.append(nn.Linear(hidden_sizes[i-1], hidden_sizes[i]))  # Hidden layers\n",
    "        self.layers.append(nn.Linear(hidden_sizes[-1], output_size))  # Output layer\n",
    "        \n",
    "    def forward(self, x):\n",
    "        for layer in self.layers[:-1]:\n",
    "            x = torch.relu(layer(x))\n",
    "        x = self.layers[-1](x)\n",
    "        # x = torch.sigmoid(self.layers[-1](x))\n",
    "        # x = torch.relu(self.layers[-1](x))\n",
    "        return x\n",
    "    \n",
    "# Define the early stopping class\n",
    "class EarlyStopping:\n",
    "    def __init__(self, patience=5, min_delta=0):\n",
    "        self.patience = patience\n",
    "        self.min_delta = min_delta\n",
    "        self.counter = 0\n",
    "        self.best_loss = None\n",
    "        self.early_stop = False\n",
    "\n",
    "    def __call__(self, val_loss):\n",
    "        if self.best_loss is None:\n",
    "            self.best_loss = val_loss\n",
    "        elif val_loss > self.best_loss - self.min_delta:\n",
    "            self.counter += 1\n",
    "            if self.counter >= self.patience:\n",
    "                self.early_stop = True\n",
    "        else:\n",
    "            self.best_loss = val_loss\n",
    "            self.counter = 0\n",
    "\n",
    "# Define the input size and output size\n",
    "input_size = 10 # 10 pca features\n",
    "output_size = 3 # 3 empirical model parameters"
   ]
  },
  {
   "cell_type": "markdown",
   "metadata": {},
   "source": [
    "Prepare training dataset"
   ]
  },
  {
   "cell_type": "code",
   "execution_count": 31,
   "metadata": {},
   "outputs": [],
   "source": [
    "train_dataset_CV = []\n",
    "val_dataset_CV = []\n",
    "for fold in range(10):\n",
    "    train_cells = training_cells_CV[fold]\n",
    "    val_cells = val_cells_CV[fold]\n",
    "\n",
    "    X_train_fold = X_train_PCA[train_cells]\n",
    "    X_val_fold = X_train_PCA[val_cells]\n",
    "   \n",
    "    Y_train_fold = y_train_scaled[train_cells]\n",
    "    Y_val_fold = y_train_scaled[val_cells]\n",
    "    # print(Y_val_fold)\n",
    "\n",
    "    X_train_fold = torch.tensor(X_train_fold,dtype=torch.float32)\n",
    "    X_val_fold = torch.tensor(X_val_fold,dtype=torch.float32)\n",
    "\n",
    "    Y_train_fold = torch.tensor(Y_train_fold,dtype=torch.float32)\n",
    "    Y_val_fold = torch.tensor(Y_val_fold,dtype=torch.float32)\n",
    "\n",
    "\n",
    "    train_dataset = TensorDataset(X_train_fold,Y_train_fold)\n",
    "    val_dataset = TensorDataset(X_val_fold,Y_val_fold)\n",
    "\n",
    "    train_dataset_CV.append(train_dataset)\n",
    "    val_dataset_CV.append(val_dataset)\n"
   ]
  },
  {
   "cell_type": "markdown",
   "metadata": {},
   "source": [
    "Hyperparameter optimization"
   ]
  },
  {
   "cell_type": "code",
   "execution_count": null,
   "metadata": {},
   "outputs": [
    {
     "name": "stderr",
     "output_type": "stream",
     "text": [
      "[I 2024-10-30 15:06:19,700] A new study created in memory with name: no-name-2ae6fe9d-174e-4070-824f-ec610d0a13ff\n"
     ]
    },
    {
     "name": "stdout",
     "output_type": "stream",
     "text": [
      "Early stopping at epoch 178\n",
      "Early stopping at epoch 178\n",
      "Early stopping at epoch 177\n",
      "Early stopping at epoch 183\n",
      "Early stopping at epoch 221\n",
      "Early stopping at epoch 183\n",
      "Early stopping at epoch 209\n",
      "Early stopping at epoch 177\n",
      "Early stopping at epoch 183\n"
     ]
    },
    {
     "name": "stderr",
     "output_type": "stream",
     "text": [
      "[I 2024-10-30 15:06:33,158] Trial 0 finished with value: 1.0977021753787994 and parameters: {'lr': 0.0013292918943162175, 'num_neuron': 20, 'num_layer': 4, 'batch_size': 33, 'weight_decay': 2.0513382630874456e-08}. Best is trial 0 with value: 1.0977021753787994.\n"
     ]
    },
    {
     "name": "stdout",
     "output_type": "stream",
     "text": [
      "Early stopping at epoch 178\n",
      "Validation loss: [1.1024571657180786, 3.3808224201202393, 0.86934494972229, 1.0190231800079346, 0.7117137908935547, 1.1764955520629883, 0.2432132065296173, 0.4882822334766388, 1.4248842000961304, 0.5607850551605225]\n",
      "Early stopping at epoch 764\n",
      "Early stopping at epoch 348\n",
      "Early stopping at epoch 293\n",
      "Early stopping at epoch 177\n",
      "Early stopping at epoch 181\n",
      "Early stopping at epoch 177\n",
      "Early stopping at epoch 264\n",
      "Early stopping at epoch 324\n",
      "Early stopping at epoch 230\n"
     ]
    },
    {
     "name": "stderr",
     "output_type": "stream",
     "text": [
      "[I 2024-10-30 15:06:55,311] Trial 1 finished with value: 0.8640991538763046 and parameters: {'lr': 0.00029375384576328325, 'num_neuron': 5, 'num_layer': 5, 'batch_size': 34, 'weight_decay': 2.6070247583707663e-07}. Best is trial 1 with value: 0.8640991538763046.\n"
     ]
    },
    {
     "name": "stdout",
     "output_type": "stream",
     "text": [
      "Early stopping at epoch 264\n",
      "Validation loss: [0.5319028496742249, 0.80535888671875, 1.0876166820526123, 0.8346790075302124, 1.4403750896453857, 2.1074461936950684, 0.31781286001205444, 0.3287864625453949, 0.7981585264205933, 0.38885498046875]\n",
      "Early stopping at epoch 185\n",
      "Early stopping at epoch 448\n",
      "Early stopping at epoch 458\n",
      "Early stopping at epoch 355\n",
      "Early stopping at epoch 688\n",
      "Early stopping at epoch 374\n",
      "Early stopping at epoch 182\n",
      "Early stopping at epoch 231\n",
      "Early stopping at epoch 177\n"
     ]
    },
    {
     "name": "stderr",
     "output_type": "stream",
     "text": [
      "[I 2024-10-30 15:07:26,186] Trial 2 finished with value: 0.5559602171182633 and parameters: {'lr': 0.00011527987128232407, 'num_neuron': 20, 'num_layer': 5, 'batch_size': 22, 'weight_decay': 2.310201887845289e-08}. Best is trial 2 with value: 0.5559602171182633.\n"
     ]
    },
    {
     "name": "stdout",
     "output_type": "stream",
     "text": [
      "Early stopping at epoch 460\n",
      "Validation loss: [0.44098490476608276, 0.5022135972976685, 1.117002248764038, 0.4553316831588745, 0.517857551574707, 0.8002281785011292, 0.29472440481185913, 0.39242681860923767, 0.878518283367157, 0.16031450033187866]\n",
      "Early stopping at epoch 203\n",
      "Early stopping at epoch 281\n",
      "Early stopping at epoch 178\n",
      "Early stopping at epoch 181\n",
      "Early stopping at epoch 177\n",
      "Early stopping at epoch 187\n",
      "Early stopping at epoch 279\n",
      "Early stopping at epoch 179\n",
      "Early stopping at epoch 188\n"
     ]
    },
    {
     "name": "stderr",
     "output_type": "stream",
     "text": [
      "[I 2024-10-30 15:07:40,461] Trial 3 finished with value: 0.7627594649791718 and parameters: {'lr': 0.0003549878832196505, 'num_neuron': 9, 'num_layer': 4, 'batch_size': 28, 'weight_decay': 3.8234752246751846e-08}. Best is trial 2 with value: 0.5559602171182633.\n"
     ]
    },
    {
     "name": "stdout",
     "output_type": "stream",
     "text": [
      "Early stopping at epoch 178\n",
      "Validation loss: [0.509458065032959, 0.8452576994895935, 1.168971061706543, 0.7880136966705322, 1.0143966674804688, 1.135215401649475, 0.25107356905937195, 0.4625222682952881, 1.0284911394119263, 0.4241950809955597]\n",
      "Early stopping at epoch 180\n",
      "Early stopping at epoch 181\n",
      "Early stopping at epoch 189\n",
      "Early stopping at epoch 209\n",
      "Early stopping at epoch 187\n",
      "Early stopping at epoch 178\n",
      "Early stopping at epoch 180\n",
      "Early stopping at epoch 194\n",
      "Early stopping at epoch 190\n"
     ]
    },
    {
     "name": "stderr",
     "output_type": "stream",
     "text": [
      "[I 2024-10-30 15:07:54,501] Trial 4 finished with value: 1.2190714240074159 and parameters: {'lr': 0.006847920095574782, 'num_neuron': 7, 'num_layer': 3, 'batch_size': 26, 'weight_decay': 8.168455894760162e-08}. Best is trial 2 with value: 0.5559602171182633.\n"
     ]
    },
    {
     "name": "stdout",
     "output_type": "stream",
     "text": [
      "Early stopping at epoch 197\n",
      "Validation loss: [2.146791934967041, 4.445153713226318, 1.134587287902832, 0.6581340432167053, 0.6105520725250244, 1.1195119619369507, 0.24166987836360931, 0.7237891554832458, 0.9567903876304626, 0.15373380482196808]\n",
      "Early stopping at epoch 193\n",
      "Early stopping at epoch 190\n",
      "Early stopping at epoch 210\n",
      "Early stopping at epoch 186\n",
      "Early stopping at epoch 205\n",
      "Early stopping at epoch 205\n",
      "Early stopping at epoch 183\n",
      "Early stopping at epoch 178\n",
      "Early stopping at epoch 198\n"
     ]
    },
    {
     "name": "stderr",
     "output_type": "stream",
     "text": [
      "[I 2024-10-30 15:08:08,316] Trial 5 finished with value: 4.029518270492554 and parameters: {'lr': 0.0226739865237804, 'num_neuron': 8, 'num_layer': 4, 'batch_size': 33, 'weight_decay': 1.2385137298860928e-08}. Best is trial 2 with value: 0.5559602171182633.\n"
     ]
    },
    {
     "name": "stdout",
     "output_type": "stream",
     "text": [
      "Early stopping at epoch 203\n",
      "Validation loss: [2.0527989864349365, 31.205711364746094, 1.1396746635437012, 0.5386272072792053, 0.42455214262008667, 1.383703589439392, 0.5999920964241028, 0.8836989998817444, 1.2913389205932617, 0.7750847339630127]\n",
      "Early stopping at epoch 192\n",
      "Early stopping at epoch 179\n",
      "Early stopping at epoch 277\n",
      "Early stopping at epoch 177\n",
      "Early stopping at epoch 187\n",
      "Early stopping at epoch 187\n",
      "Early stopping at epoch 180\n",
      "Early stopping at epoch 178\n",
      "Early stopping at epoch 271\n"
     ]
    },
    {
     "name": "stderr",
     "output_type": "stream",
     "text": [
      "[I 2024-10-30 15:08:14,796] Trial 6 finished with value: 0.9741073936223984 and parameters: {'lr': 0.006647135865318032, 'num_neuron': 7, 'num_layer': 2, 'batch_size': 44, 'weight_decay': 8.536189862866822e-07}. Best is trial 2 with value: 0.5559602171182633.\n"
     ]
    },
    {
     "name": "stdout",
     "output_type": "stream",
     "text": [
      "Early stopping at epoch 177\n",
      "Validation loss: [1.4450839757919312, 0.5679071545600891, 1.8180382251739502, 1.1606640815734863, 0.5409934520721436, 1.4788432121276855, 0.21289199590682983, 1.311550498008728, 0.7344760894775391, 0.47062525153160095]\n",
      "Early stopping at epoch 177\n",
      "Early stopping at epoch 237\n",
      "Early stopping at epoch 185\n",
      "Early stopping at epoch 221\n",
      "Early stopping at epoch 194\n",
      "Early stopping at epoch 207\n",
      "Early stopping at epoch 192\n",
      "Early stopping at epoch 179\n",
      "Early stopping at epoch 198\n"
     ]
    },
    {
     "name": "stderr",
     "output_type": "stream",
     "text": [
      "[I 2024-10-30 15:08:23,422] Trial 7 finished with value: 1.702672991156578 and parameters: {'lr': 0.026619018884890575, 'num_neuron': 9, 'num_layer': 2, 'batch_size': 36, 'weight_decay': 7.591104805282688e-08}. Best is trial 2 with value: 0.5559602171182633.\n"
     ]
    },
    {
     "name": "stdout",
     "output_type": "stream",
     "text": [
      "Early stopping at epoch 202\n",
      "Validation loss: [2.0382721424102783, 5.38812780380249, 3.915229558944702, 0.6958799362182617, 0.5670489072799683, 1.5431365966796875, 0.3804151117801666, 0.9323287010192871, 1.246418833732605, 0.31987231969833374]\n",
      "Early stopping at epoch 642\n",
      "Early stopping at epoch 280\n",
      "Early stopping at epoch 277\n",
      "Early stopping at epoch 437\n",
      "Early stopping at epoch 634\n",
      "Early stopping at epoch 979\n",
      "Early stopping at epoch 270\n",
      "Early stopping at epoch 244\n",
      "Early stopping at epoch 188\n"
     ]
    },
    {
     "name": "stderr",
     "output_type": "stream",
     "text": [
      "[I 2024-10-30 15:08:40,286] Trial 8 finished with value: 0.6117947846651077 and parameters: {'lr': 0.00023233503515390126, 'num_neuron': 12, 'num_layer': 2, 'batch_size': 43, 'weight_decay': 3.2927591344236136e-08}. Best is trial 2 with value: 0.5559602171182633.\n"
     ]
    },
    {
     "name": "stdout",
     "output_type": "stream",
     "text": [
      "Early stopping at epoch 177\n",
      "Validation loss: [0.29696205258369446, 1.1097732782363892, 1.251137614250183, 0.43897730112075806, 0.49614351987838745, 0.6643455028533936, 0.2757444977760315, 0.4040044844150543, 0.7951540350914001, 0.3857055604457855]\n",
      "Early stopping at epoch 177\n",
      "Early stopping at epoch 189\n",
      "Early stopping at epoch 177\n",
      "Early stopping at epoch 187\n",
      "Early stopping at epoch 179\n",
      "Early stopping at epoch 187\n",
      "Early stopping at epoch 180\n",
      "Early stopping at epoch 182\n",
      "Early stopping at epoch 189\n"
     ]
    },
    {
     "name": "stderr",
     "output_type": "stream",
     "text": [
      "[I 2024-10-30 15:08:53,086] Trial 9 finished with value: 0.9351781517267227 and parameters: {'lr': 0.009717775305059635, 'num_neuron': 9, 'num_layer': 4, 'batch_size': 32, 'weight_decay': 2.3426581058204002e-08}. Best is trial 2 with value: 0.5559602171182633.\n"
     ]
    },
    {
     "name": "stdout",
     "output_type": "stream",
     "text": [
      "Early stopping at epoch 201\n",
      "Validation loss: [0.7613638639450073, 2.396052122116089, 1.5406010150909424, 0.4593658447265625, 0.9754024744033813, 1.1124602556228638, 0.47210660576820374, 0.6817326545715332, 0.6615408658981323, 0.2911558151245117]\n",
      "Early stopping at epoch 207\n",
      "Early stopping at epoch 177\n",
      "Early stopping at epoch 202\n",
      "Early stopping at epoch 179\n",
      "Early stopping at epoch 243\n",
      "Early stopping at epoch 184\n",
      "Early stopping at epoch 200\n",
      "Early stopping at epoch 208\n",
      "Early stopping at epoch 182\n"
     ]
    },
    {
     "name": "stderr",
     "output_type": "stream",
     "text": [
      "[I 2024-10-30 15:09:16,681] Trial 10 finished with value: 1.2156514376401901 and parameters: {'lr': 0.0014393275549819129, 'num_neuron': 19, 'num_layer': 5, 'batch_size': 16, 'weight_decay': 2.012487082975093e-07}. Best is trial 2 with value: 0.5559602171182633.\n"
     ]
    },
    {
     "name": "stdout",
     "output_type": "stream",
     "text": [
      "Early stopping at epoch 177\n",
      "Validation loss: [1.5852737426757812, 4.387020111083984, 1.0772223472595215, 0.9738739728927612, 0.7031147480010986, 0.8431649804115295, 0.4078274369239807, 0.4904369115829468, 1.3358440399169922, 0.35273608565330505]\n",
      "Early stopping at epoch 317\n",
      "Early stopping at epoch 280\n",
      "Early stopping at epoch 555\n",
      "Early stopping at epoch 343\n",
      "Early stopping at epoch 491\n",
      "Early stopping at epoch 770\n",
      "Early stopping at epoch 280\n",
      "Early stopping at epoch 858\n",
      "Early stopping at epoch 196\n"
     ]
    },
    {
     "name": "stderr",
     "output_type": "stream",
     "text": [
      "[I 2024-10-30 15:09:48,936] Trial 11 finished with value: 0.5711442112922669 and parameters: {'lr': 0.00012422550383562567, 'num_neuron': 14, 'num_layer': 3, 'batch_size': 21, 'weight_decay': 3.9626813519794035e-08}. Best is trial 2 with value: 0.5559602171182633.\n"
     ]
    },
    {
     "name": "stdout",
     "output_type": "stream",
     "text": [
      "Early stopping at epoch 177\n",
      "Validation loss: [0.21647107601165771, 0.8550689220428467, 1.031667947769165, 0.43880495429039, 0.652751624584198, 0.7382113933563232, 0.31129220128059387, 0.35588422417640686, 0.7265239357948303, 0.3847658336162567]\n",
      "Early stopping at epoch 284\n",
      "Early stopping at epoch 315\n",
      "Early stopping at epoch 519\n",
      "Early stopping at epoch 258\n",
      "Early stopping at epoch 453\n",
      "Early stopping at epoch 397\n",
      "Early stopping at epoch 227\n",
      "Early stopping at epoch 267\n",
      "Early stopping at epoch 177\n"
     ]
    },
    {
     "name": "stderr",
     "output_type": "stream",
     "text": [
      "[I 2024-10-30 15:10:13,679] Trial 12 finished with value: 0.6586357861757278 and parameters: {'lr': 0.00011148088402547389, 'num_neuron': 16, 'num_layer': 3, 'batch_size': 20, 'weight_decay': 1.2703336742400138e-08}. Best is trial 2 with value: 0.5559602171182633.\n"
     ]
    },
    {
     "name": "stdout",
     "output_type": "stream",
     "text": [
      "Early stopping at epoch 263\n",
      "Validation loss: [0.39543214440345764, 0.8934083580970764, 1.0325242280960083, 0.37169721722602844, 0.5392553806304932, 1.4326285123825073, 0.32595252990722656, 0.4046480357646942, 0.8843477368354797, 0.30646371841430664]\n",
      "Early stopping at epoch 398\n",
      "Early stopping at epoch 399\n",
      "Early stopping at epoch 177\n",
      "Early stopping at epoch 898\n",
      "Early stopping at epoch 380\n",
      "Early stopping at epoch 919\n",
      "Early stopping at epoch 184\n",
      "Early stopping at epoch 205\n",
      "Early stopping at epoch 185\n"
     ]
    },
    {
     "name": "stderr",
     "output_type": "stream",
     "text": [
      "[I 2024-10-30 15:10:42,374] Trial 13 finished with value: 0.5523158699274063 and parameters: {'lr': 0.00011481963239014913, 'num_neuron': 16, 'num_layer': 3, 'batch_size': 23, 'weight_decay': 5.703654784743073e-08}. Best is trial 13 with value: 0.5523158699274063.\n"
     ]
    },
    {
     "name": "stdout",
     "output_type": "stream",
     "text": [
      "Early stopping at epoch 604\n",
      "Validation loss: [0.29218435287475586, 0.6969923973083496, 1.2935211658477783, 0.2991337478160858, 0.6649987697601318, 0.6373564004898071, 0.31508123874664307, 0.4433150887489319, 0.642890989780426, 0.23768454790115356]\n",
      "Early stopping at epoch 177\n",
      "Early stopping at epoch 193\n",
      "Early stopping at epoch 203\n",
      "Early stopping at epoch 178\n",
      "Early stopping at epoch 177\n",
      "Early stopping at epoch 182\n",
      "Early stopping at epoch 294\n",
      "Early stopping at epoch 240\n",
      "Early stopping at epoch 213\n"
     ]
    },
    {
     "name": "stderr",
     "output_type": "stream",
     "text": [
      "[I 2024-10-30 15:11:00,113] Trial 14 finished with value: 1.0898937076330184 and parameters: {'lr': 0.0007278093164226109, 'num_neuron': 17, 'num_layer': 5, 'batch_size': 24, 'weight_decay': 1.5591231235591546e-07}. Best is trial 13 with value: 0.5523158699274063.\n"
     ]
    },
    {
     "name": "stdout",
     "output_type": "stream",
     "text": [
      "Early stopping at epoch 180\n",
      "Validation loss: [1.2196282148361206, 4.533439636230469, 0.7297290563583374, 0.444097638130188, 0.8880343437194824, 1.0026226043701172, 0.2709827125072479, 0.37453094124794006, 1.2583987712860107, 0.17747315764427185]\n",
      "Early stopping at epoch 221\n",
      "Early stopping at epoch 181\n",
      "Early stopping at epoch 177\n",
      "Early stopping at epoch 178\n",
      "Early stopping at epoch 209\n",
      "Early stopping at epoch 184\n",
      "Early stopping at epoch 219\n",
      "Early stopping at epoch 182\n",
      "Early stopping at epoch 202\n"
     ]
    },
    {
     "name": "stderr",
     "output_type": "stream",
     "text": [
      "[I 2024-10-30 15:11:17,712] Trial 15 finished with value: 0.8909116268157959 and parameters: {'lr': 0.07890122142467841, 'num_neuron': 18, 'num_layer': 3, 'batch_size': 18, 'weight_decay': 6.026042546280283e-08}. Best is trial 13 with value: 0.5523158699274063.\n"
     ]
    },
    {
     "name": "stdout",
     "output_type": "stream",
     "text": [
      "Early stopping at epoch 210\n",
      "Validation loss: [0.505862832069397, 0.9614489674568176, 1.6727768182754517, 1.1175923347473145, 0.9396636486053467, 0.9828017354011536, 0.5007193088531494, 0.8818607330322266, 1.0474929809570312, 0.2988969087600708]\n",
      "Early stopping at epoch 177\n",
      "Early stopping at epoch 177\n",
      "Early stopping at epoch 180\n",
      "Early stopping at epoch 177\n",
      "Early stopping at epoch 213\n",
      "Early stopping at epoch 182\n",
      "Early stopping at epoch 298\n",
      "Early stopping at epoch 177\n",
      "Early stopping at epoch 390\n"
     ]
    },
    {
     "name": "stderr",
     "output_type": "stream",
     "text": [
      "[I 2024-10-30 15:11:36,060] Trial 16 finished with value: 0.8540567398071289 and parameters: {'lr': 0.0006305114210316518, 'num_neuron': 15, 'num_layer': 5, 'batch_size': 23, 'weight_decay': 4.1606179337559995e-07}. Best is trial 13 with value: 0.5523158699274063.\n"
     ]
    },
    {
     "name": "stdout",
     "output_type": "stream",
     "text": [
      "Early stopping at epoch 180\n",
      "Validation loss: [0.773050844669342, 1.275976538658142, 1.8039177656173706, 0.8823738694190979, 0.6565704345703125, 0.8676719069480896, 0.23153072595596313, 0.9675912857055664, 0.8440982699394226, 0.23778575658798218]\n",
      "Early stopping at epoch 224\n",
      "Early stopping at epoch 277\n",
      "Early stopping at epoch 192\n",
      "Early stopping at epoch 209\n",
      "Early stopping at epoch 181\n",
      "Early stopping at epoch 177\n",
      "Early stopping at epoch 179\n",
      "Early stopping at epoch 223\n",
      "Early stopping at epoch 180\n"
     ]
    },
    {
     "name": "stderr",
     "output_type": "stream",
     "text": [
      "[I 2024-10-30 15:11:49,890] Trial 17 finished with value: 0.9759645253419876 and parameters: {'lr': 0.002422225202188586, 'num_neuron': 13, 'num_layer': 4, 'batch_size': 28, 'weight_decay': 1.177627707680551e-07}. Best is trial 13 with value: 0.5523158699274063.\n"
     ]
    },
    {
     "name": "stdout",
     "output_type": "stream",
     "text": [
      "Early stopping at epoch 204\n",
      "Validation loss: [0.8744340538978577, 0.9251034259796143, 3.0516974925994873, 0.39712390303611755, 0.5631648302078247, 1.483051061630249, 0.25827378034591675, 0.5315877795219421, 1.3880228996276855, 0.28718602657318115]\n",
      "Early stopping at epoch 301\n",
      "Early stopping at epoch 253\n",
      "Early stopping at epoch 210\n",
      "Early stopping at epoch 252\n",
      "Early stopping at epoch 427\n",
      "Early stopping at epoch 348\n",
      "Early stopping at epoch 197\n",
      "Early stopping at epoch 353\n",
      "Early stopping at epoch 197\n"
     ]
    },
    {
     "name": "stderr",
     "output_type": "stream",
     "text": [
      "[I 2024-10-30 15:12:04,798] Trial 18 finished with value: 0.6517242372035981 and parameters: {'lr': 0.0001666832391752122, 'num_neuron': 20, 'num_layer': 3, 'batch_size': 39, 'weight_decay': 2.1380037607758047e-08}. Best is trial 13 with value: 0.5523158699274063.\n"
     ]
    },
    {
     "name": "stdout",
     "output_type": "stream",
     "text": [
      "Early stopping at epoch 177\n",
      "Validation loss: [0.43864113092422485, 0.9191510677337646, 1.20808744430542, 0.428237646818161, 0.5140823125839233, 1.148127794265747, 0.3502311706542969, 0.32310888171195984, 0.8228997588157654, 0.3646751642227173]\n",
      "Early stopping at epoch 179\n",
      "Early stopping at epoch 177\n",
      "Early stopping at epoch 267\n",
      "Early stopping at epoch 196\n",
      "Early stopping at epoch 179\n",
      "Early stopping at epoch 268\n",
      "Early stopping at epoch 177\n",
      "Early stopping at epoch 191\n",
      "Early stopping at epoch 177\n"
     ]
    },
    {
     "name": "stderr",
     "output_type": "stream",
     "text": [
      "[I 2024-10-30 15:12:14,599] Trial 19 finished with value: 0.6657506406307221 and parameters: {'lr': 0.0005416943508150593, 'num_neuron': 17, 'num_layer': 2, 'batch_size': 28, 'weight_decay': 5.225079536355133e-08}. Best is trial 13 with value: 0.5523158699274063.\n"
     ]
    },
    {
     "name": "stdout",
     "output_type": "stream",
     "text": [
      "Early stopping at epoch 229\n",
      "Validation loss: [0.39636415243148804, 0.9050908088684082, 1.0889047384262085, 0.5384236574172974, 0.7275908589363098, 0.7077082395553589, 0.36962032318115234, 0.40341687202453613, 1.3008533716201782, 0.21953338384628296]\n",
      "Early stopping at epoch 178\n",
      "Early stopping at epoch 178\n",
      "Early stopping at epoch 190\n",
      "Early stopping at epoch 178\n",
      "Early stopping at epoch 256\n",
      "Early stopping at epoch 181\n",
      "Early stopping at epoch 178\n",
      "Early stopping at epoch 178\n",
      "Early stopping at epoch 179\n"
     ]
    },
    {
     "name": "stderr",
     "output_type": "stream",
     "text": [
      "[I 2024-10-30 15:12:31,406] Trial 20 finished with value: 0.7665587335824966 and parameters: {'lr': 0.0011816118850593645, 'num_neuron': 11, 'num_layer': 5, 'batch_size': 22, 'weight_decay': 1.0220690547060586e-08}. Best is trial 13 with value: 0.5523158699274063.\n"
     ]
    },
    {
     "name": "stdout",
     "output_type": "stream",
     "text": [
      "Early stopping at epoch 180\n",
      "Validation loss: [1.8362524509429932, 0.6553681492805481, 1.113877773284912, 0.2774924039840698, 0.7547354698181152, 0.7868986129760742, 0.26082485914230347, 0.9464171528816223, 0.7419248223304749, 0.29179564118385315]\n",
      "Early stopping at epoch 365\n",
      "Early stopping at epoch 328\n",
      "Early stopping at epoch 186\n",
      "Early stopping at epoch 422\n",
      "Early stopping at epoch 716\n",
      "Early stopping at epoch 420\n",
      "Early stopping at epoch 177\n",
      "Early stopping at epoch 514\n",
      "Early stopping at epoch 177\n"
     ]
    },
    {
     "name": "stderr",
     "output_type": "stream",
     "text": [
      "[I 2024-10-30 15:13:01,649] Trial 21 finished with value: 0.6735373288393021 and parameters: {'lr': 0.00010280327113233139, 'num_neuron': 14, 'num_layer': 3, 'batch_size': 20, 'weight_decay': 3.7361573699566285e-08}. Best is trial 13 with value: 0.5523158699274063.\n"
     ]
    },
    {
     "name": "stdout",
     "output_type": "stream",
     "text": [
      "Early stopping at epoch 211\n",
      "Validation loss: [0.2817242443561554, 0.9590116143226624, 1.1851948499679565, 0.3701794147491455, 0.6585047245025635, 1.385414719581604, 0.3778969943523407, 0.3354712128639221, 0.9110172986984253, 0.27095821499824524]\n",
      "Early stopping at epoch 403\n",
      "Early stopping at epoch 177\n",
      "Early stopping at epoch 179\n",
      "Early stopping at epoch 177\n",
      "Early stopping at epoch 299\n",
      "Early stopping at epoch 238\n",
      "Early stopping at epoch 218\n",
      "Early stopping at epoch 182\n",
      "Early stopping at epoch 177\n"
     ]
    },
    {
     "name": "stderr",
     "output_type": "stream",
     "text": [
      "[I 2024-10-30 15:13:25,324] Trial 22 finished with value: 0.7710093155503273 and parameters: {'lr': 0.0001781112650811695, 'num_neuron': 14, 'num_layer': 3, 'batch_size': 16, 'weight_decay': 4.919297083925635e-08}. Best is trial 13 with value: 0.5523158699274063.\n"
     ]
    },
    {
     "name": "stdout",
     "output_type": "stream",
     "text": [
      "Early stopping at epoch 465\n",
      "Validation loss: [0.4298096299171448, 1.4198942184448242, 1.2996034622192383, 0.6133124828338623, 0.7067429423332214, 1.3749542236328125, 0.3375608026981354, 0.4651484787464142, 0.9229915738105774, 0.14007534086704254]\n",
      "Early stopping at epoch 257\n",
      "Early stopping at epoch 270\n",
      "Early stopping at epoch 212\n",
      "Early stopping at epoch 253\n",
      "Early stopping at epoch 483\n",
      "Early stopping at epoch 308\n",
      "Early stopping at epoch 188\n",
      "Early stopping at epoch 250\n",
      "Early stopping at epoch 177\n"
     ]
    },
    {
     "name": "stderr",
     "output_type": "stream",
     "text": [
      "[I 2024-10-30 15:13:43,665] Trial 23 finished with value: 0.719398221373558 and parameters: {'lr': 0.00010419737627292884, 'num_neuron': 16, 'num_layer': 3, 'batch_size': 25, 'weight_decay': 2.7275648775472814e-08}. Best is trial 13 with value: 0.5523158699274063.\n"
     ]
    },
    {
     "name": "stdout",
     "output_type": "stream",
     "text": [
      "Early stopping at epoch 183\n",
      "Validation loss: [0.34765034914016724, 1.249168872833252, 1.214382290840149, 0.431980162858963, 0.6255686283111572, 1.3065967559814453, 0.3424373269081116, 0.4107300937175751, 0.9442445039749146, 0.3212232291698456]\n",
      "Early stopping at epoch 185\n",
      "Early stopping at epoch 290\n",
      "Early stopping at epoch 243\n",
      "Early stopping at epoch 189\n",
      "Early stopping at epoch 177\n",
      "Early stopping at epoch 205\n",
      "Early stopping at epoch 178\n",
      "Early stopping at epoch 177\n",
      "Early stopping at epoch 214\n"
     ]
    },
    {
     "name": "stderr",
     "output_type": "stream",
     "text": [
      "[I 2024-10-30 15:14:03,774] Trial 24 finished with value: 0.848618021607399 and parameters: {'lr': 0.0003868265742206765, 'num_neuron': 19, 'num_layer': 4, 'batch_size': 21, 'weight_decay': 1.735004637517611e-08}. Best is trial 13 with value: 0.5523158699274063.\n"
     ]
    },
    {
     "name": "stdout",
     "output_type": "stream",
     "text": [
      "Early stopping at epoch 258\n",
      "Validation loss: [0.42041751742362976, 2.022961378097534, 1.4716529846191406, 0.5980437397956848, 0.6372336149215698, 0.9726985692977905, 0.38361185789108276, 0.6004480123519897, 1.228442907333374, 0.1506696343421936]\n",
      "Early stopping at epoch 216\n",
      "Early stopping at epoch 190\n",
      "Early stopping at epoch 533\n",
      "Early stopping at epoch 195\n",
      "Early stopping at epoch 523\n",
      "Early stopping at epoch 384\n",
      "Early stopping at epoch 177\n",
      "Early stopping at epoch 311\n",
      "Early stopping at epoch 177\n"
     ]
    },
    {
     "name": "stderr",
     "output_type": "stream",
     "text": [
      "[I 2024-10-30 15:14:28,544] Trial 25 finished with value: 0.615336462855339 and parameters: {'lr': 0.00018723095629112732, 'num_neuron': 11, 'num_layer': 3, 'batch_size': 19, 'weight_decay': 1.0352773467620551e-07}. Best is trial 13 with value: 0.5523158699274063.\n"
     ]
    },
    {
     "name": "stdout",
     "output_type": "stream",
     "text": [
      "Early stopping at epoch 177\n",
      "Validation loss: [0.32625141739845276, 1.1373487710952759, 0.6944116353988647, 0.5262308120727539, 0.8781358003616333, 0.7987661361694336, 0.29616251587867737, 0.3438968360424042, 0.8023924231529236, 0.3497682809829712]\n",
      "Early stopping at epoch 177\n",
      "Early stopping at epoch 315\n",
      "Early stopping at epoch 318\n",
      "Early stopping at epoch 310\n",
      "Early stopping at epoch 203\n",
      "Early stopping at epoch 268\n",
      "Early stopping at epoch 177\n",
      "Early stopping at epoch 177\n",
      "Early stopping at epoch 181\n"
     ]
    },
    {
     "name": "stderr",
     "output_type": "stream",
     "text": [
      "[I 2024-10-30 15:14:41,599] Trial 26 finished with value: 0.6017097398638726 and parameters: {'lr': 0.00039791573814122955, 'num_neuron': 15, 'num_layer': 2, 'batch_size': 30, 'weight_decay': 6.350453783109973e-08}. Best is trial 13 with value: 0.5523158699274063.\n"
     ]
    },
    {
     "name": "stdout",
     "output_type": "stream",
     "text": [
      "Early stopping at epoch 358\n",
      "Validation loss: [0.41320133209228516, 0.9053239822387695, 0.910408079624176, 0.49367183446884155, 0.5078545808792114, 0.87201988697052, 0.3680351972579956, 0.30355337262153625, 1.1173686981201172, 0.12566043436527252]\n",
      "Early stopping at epoch 237\n",
      "Early stopping at epoch 255\n",
      "Early stopping at epoch 198\n",
      "Early stopping at epoch 177\n",
      "Early stopping at epoch 413\n",
      "Early stopping at epoch 401\n",
      "Early stopping at epoch 254\n",
      "Early stopping at epoch 177\n",
      "Early stopping at epoch 199\n"
     ]
    },
    {
     "name": "stderr",
     "output_type": "stream",
     "text": [
      "[I 2024-10-30 15:15:05,229] Trial 27 finished with value: 0.6704773485660553 and parameters: {'lr': 0.00016690290731762456, 'num_neuron': 18, 'num_layer': 4, 'batch_size': 26, 'weight_decay': 4.436479829202501e-08}. Best is trial 13 with value: 0.5523158699274063.\n"
     ]
    },
    {
     "name": "stdout",
     "output_type": "stream",
     "text": [
      "Early stopping at epoch 360\n",
      "Validation loss: [0.5364185571670532, 0.5118526816368103, 1.3868839740753174, 0.6864988803863525, 0.5184716582298279, 0.9783174991607666, 0.32827329635620117, 0.422359824180603, 1.1637753248214722, 0.17192178964614868]\n",
      "Early stopping at epoch 177\n",
      "Early stopping at epoch 177\n",
      "Early stopping at epoch 181\n",
      "Early stopping at epoch 179\n",
      "Early stopping at epoch 494\n",
      "Early stopping at epoch 331\n",
      "Early stopping at epoch 316\n",
      "Early stopping at epoch 177\n",
      "Early stopping at epoch 187\n"
     ]
    },
    {
     "name": "stderr",
     "output_type": "stream",
     "text": [
      "[I 2024-10-30 15:15:28,649] Trial 28 finished with value: 0.6338549152016639 and parameters: {'lr': 0.0002559064966743906, 'num_neuron': 13, 'num_layer': 3, 'batch_size': 18, 'weight_decay': 1.6473986768843334e-08}. Best is trial 13 with value: 0.5523158699274063.\n"
     ]
    },
    {
     "name": "stdout",
     "output_type": "stream",
     "text": [
      "Early stopping at epoch 254\n",
      "Validation loss: [0.3177087903022766, 0.7893223762512207, 1.5310510396957397, 0.40361398458480835, 0.7306272983551025, 0.7608755230903625, 0.2419511377811432, 0.40621909499168396, 0.9542598128318787, 0.2029200941324234]\n",
      "Early stopping at epoch 179\n",
      "Early stopping at epoch 178\n",
      "Early stopping at epoch 214\n",
      "Early stopping at epoch 182\n",
      "Early stopping at epoch 190\n",
      "Early stopping at epoch 185\n",
      "Early stopping at epoch 177\n",
      "Early stopping at epoch 177\n",
      "Early stopping at epoch 208\n"
     ]
    },
    {
     "name": "stderr",
     "output_type": "stream",
     "text": [
      "[I 2024-10-30 15:15:44,383] Trial 29 finished with value: 0.8211080968379975 and parameters: {'lr': 0.000904123563299114, 'num_neuron': 20, 'num_layer': 4, 'batch_size': 23, 'weight_decay': 2.891931682983175e-08}. Best is trial 13 with value: 0.5523158699274063.\n"
     ]
    },
    {
     "name": "stdout",
     "output_type": "stream",
     "text": [
      "Early stopping at epoch 178\n",
      "Validation loss: [1.5061801671981812, 0.9600737690925598, 1.0913034677505493, 0.4674193561077118, 0.6930586695671082, 0.9267598986625671, 0.21739500761032104, 0.8773692846298218, 1.1989606618881226, 0.2725606858730316]\n",
      "Early stopping at epoch 254\n",
      "Early stopping at epoch 463\n",
      "Early stopping at epoch 223\n",
      "Early stopping at epoch 181\n",
      "Early stopping at epoch 810\n",
      "Early stopping at epoch 797\n",
      "Early stopping at epoch 275\n",
      "Early stopping at epoch 234\n",
      "Early stopping at epoch 177\n"
     ]
    },
    {
     "name": "stderr",
     "output_type": "stream",
     "text": [
      "[I 2024-10-30 15:16:08,625] Trial 30 finished with value: 0.6048506826162339 and parameters: {'lr': 0.00013697471082450981, 'num_neuron': 16, 'num_layer': 3, 'batch_size': 22, 'weight_decay': 1.154368654855263e-07}. Best is trial 13 with value: 0.5523158699274063.\n"
     ]
    },
    {
     "name": "stdout",
     "output_type": "stream",
     "text": [
      "Early stopping at epoch 177\n",
      "Validation loss: [0.32646891474723816, 0.9569794535636902, 0.9866260290145874, 0.49163854122161865, 0.541260302066803, 0.67725670337677, 0.2786562740802765, 0.33076032996177673, 0.9722470641136169, 0.4866132140159607]\n",
      "Early stopping at epoch 177\n",
      "Early stopping at epoch 177\n",
      "Early stopping at epoch 212\n",
      "Early stopping at epoch 289\n",
      "Early stopping at epoch 254\n",
      "Early stopping at epoch 397\n",
      "Early stopping at epoch 572\n",
      "Early stopping at epoch 177\n",
      "Early stopping at epoch 186\n"
     ]
    },
    {
     "name": "stderr",
     "output_type": "stream",
     "text": [
      "[I 2024-10-30 15:16:23,754] Trial 31 finished with value: 0.6945814862847328 and parameters: {'lr': 0.00042770517006796114, 'num_neuron': 14, 'num_layer': 2, 'batch_size': 29, 'weight_decay': 6.341318503979289e-08}. Best is trial 13 with value: 0.5523158699274063.\n"
     ]
    },
    {
     "name": "stdout",
     "output_type": "stream",
     "text": [
      "Early stopping at epoch 362\n",
      "Validation loss: [0.27307215332984924, 1.7136707305908203, 1.114971399307251, 0.5214395523071289, 0.6721502542495728, 0.7158891558647156, 0.31353461742401123, 0.3612903356552124, 1.1230404376983643, 0.13675622642040253]\n",
      "Early stopping at epoch 240\n",
      "Early stopping at epoch 288\n",
      "Early stopping at epoch 200\n",
      "Early stopping at epoch 177\n",
      "Early stopping at epoch 280\n",
      "Early stopping at epoch 397\n",
      "Early stopping at epoch 180\n",
      "Early stopping at epoch 197\n",
      "Early stopping at epoch 177\n"
     ]
    },
    {
     "name": "stderr",
     "output_type": "stream",
     "text": [
      "[I 2024-10-30 15:16:37,126] Trial 32 finished with value: 0.6353744402527809 and parameters: {'lr': 0.0002691330579361689, 'num_neuron': 15, 'num_layer': 2, 'batch_size': 37, 'weight_decay': 7.448015087007214e-08}. Best is trial 13 with value: 0.5523158699274063.\n"
     ]
    },
    {
     "name": "stdout",
     "output_type": "stream",
     "text": [
      "Early stopping at epoch 617\n",
      "Validation loss: [0.3432665467262268, 1.1415343284606934, 1.1755214929580688, 0.5830682516098022, 0.5821322202682495, 0.8138487935066223, 0.31419503688812256, 0.4432910680770874, 0.7336364388465881, 0.22325022518634796]\n",
      "Early stopping at epoch 259\n",
      "Early stopping at epoch 375\n",
      "Early stopping at epoch 251\n",
      "Early stopping at epoch 256\n",
      "Early stopping at epoch 555\n",
      "Early stopping at epoch 632\n",
      "Early stopping at epoch 249\n",
      "Early stopping at epoch 191\n",
      "Early stopping at epoch 177\n"
     ]
    },
    {
     "name": "stderr",
     "output_type": "stream",
     "text": [
      "[I 2024-10-30 15:16:52,950] Trial 33 finished with value: 0.569937777519226 and parameters: {'lr': 0.0003060682431583041, 'num_neuron': 12, 'num_layer': 2, 'batch_size': 31, 'weight_decay': 3.779268237656038e-08}. Best is trial 13 with value: 0.5523158699274063.\n"
     ]
    },
    {
     "name": "stdout",
     "output_type": "stream",
     "text": [
      "Early stopping at epoch 239\n",
      "Validation loss: [0.17196716368198395, 0.6865244507789612, 1.1908996105194092, 0.39129555225372314, 0.528651773929596, 0.7568289041519165, 0.33903902769088745, 0.4278428554534912, 0.9932546615600586, 0.21307377517223358]\n",
      "Early stopping at epoch 282\n",
      "Early stopping at epoch 291\n",
      "Early stopping at epoch 177\n",
      "Early stopping at epoch 211\n",
      "Early stopping at epoch 361\n",
      "Early stopping at epoch 655\n",
      "Early stopping at epoch 281\n",
      "Early stopping at epoch 293\n",
      "Early stopping at epoch 177\n"
     ]
    },
    {
     "name": "stderr",
     "output_type": "stream",
     "text": [
      "[I 2024-10-30 15:17:10,286] Trial 34 finished with value: 0.6145633429288864 and parameters: {'lr': 0.00024093696633982172, 'num_neuron': 11, 'num_layer': 2, 'batch_size': 31, 'weight_decay': 3.993482898541723e-08}. Best is trial 13 with value: 0.5523158699274063.\n"
     ]
    },
    {
     "name": "stdout",
     "output_type": "stream",
     "text": [
      "Early stopping at epoch 730\n",
      "Validation loss: [0.45243000984191895, 0.7785987854003906, 1.3625842332839966, 0.36158639192581177, 0.5888197422027588, 0.6631249785423279, 0.35992416739463806, 0.36521998047828674, 0.9309386610984802, 0.2824064791202545]\n",
      "Early stopping at epoch 356\n",
      "Early stopping at epoch 965\n",
      "Early stopping at epoch 392\n",
      "Early stopping at epoch 312\n",
      "Early stopping at epoch 696\n",
      "Early stopping at epoch 378\n",
      "Early stopping at epoch 339\n",
      "Early stopping at epoch 480\n",
      "Early stopping at epoch 177\n"
     ]
    },
    {
     "name": "stderr",
     "output_type": "stream",
     "text": [
      "[I 2024-10-30 15:17:39,899] Trial 35 finished with value: 0.6524093300104141 and parameters: {'lr': 0.00014761305357502058, 'num_neuron': 12, 'num_layer': 3, 'batch_size': 26, 'weight_decay': 1.8045227061384153e-08}. Best is trial 13 with value: 0.5523158699274063.\n"
     ]
    },
    {
     "name": "stdout",
     "output_type": "stream",
     "text": [
      "Early stopping at epoch 316\n",
      "Validation loss: [0.39193180203437805, 0.631343424320221, 1.1208659410476685, 0.412718266248703, 0.5951348543167114, 1.4482897520065308, 0.3599785268306732, 0.36134326457977295, 0.9278631210327148, 0.2746243476867676]\n",
      "Early stopping at epoch 184\n",
      "Early stopping at epoch 200\n",
      "Early stopping at epoch 194\n",
      "Early stopping at epoch 178\n",
      "Early stopping at epoch 192\n",
      "Early stopping at epoch 188\n",
      "Early stopping at epoch 224\n",
      "Early stopping at epoch 180\n",
      "Early stopping at epoch 177\n"
     ]
    },
    {
     "name": "stderr",
     "output_type": "stream",
     "text": [
      "[I 2024-10-30 15:17:56,926] Trial 36 finished with value: 0.8824268788099289 and parameters: {'lr': 0.0020155180724390938, 'num_neuron': 5, 'num_layer': 5, 'batch_size': 27, 'weight_decay': 3.4250150914791884e-08}. Best is trial 13 with value: 0.5523158699274063.\n"
     ]
    },
    {
     "name": "stdout",
     "output_type": "stream",
     "text": [
      "Early stopping at epoch 206\n",
      "Validation loss: [0.6816757917404175, 0.9255331158638, 1.367745041847229, 1.291592001914978, 0.6619275808334351, 1.2043027877807617, 0.2945200502872467, 0.6993861198425293, 1.0753989219665527, 0.6221873760223389]\n",
      "Early stopping at epoch 186\n",
      "Early stopping at epoch 178\n",
      "Early stopping at epoch 180\n",
      "Early stopping at epoch 177\n",
      "Early stopping at epoch 183\n",
      "Early stopping at epoch 198\n",
      "Early stopping at epoch 206\n",
      "Early stopping at epoch 180\n",
      "Early stopping at epoch 209\n"
     ]
    },
    {
     "name": "stderr",
     "output_type": "stream",
     "text": [
      "[I 2024-10-30 15:18:09,045] Trial 37 finished with value: 1.1090001881122589 and parameters: {'lr': 0.004380053425085385, 'num_neuron': 10, 'num_layer': 4, 'batch_size': 34, 'weight_decay': 2.418669904189664e-08}. Best is trial 13 with value: 0.5523158699274063.\n"
     ]
    },
    {
     "name": "stdout",
     "output_type": "stream",
     "text": [
      "Early stopping at epoch 177\n",
      "Validation loss: [2.3669986724853516, 1.3593263626098633, 1.8134745359420776, 0.6098740100860596, 0.9505674242973328, 0.8808497786521912, 0.5423012375831604, 0.6863141655921936, 1.4908034801483154, 0.3894922137260437]\n",
      "Early stopping at epoch 325\n",
      "Early stopping at epoch 580\n",
      "Early stopping at epoch 626\n",
      "Early stopping at epoch 637\n",
      "Early stopping at epoch 304\n",
      "Early stopping at epoch 484\n",
      "Early stopping at epoch 179\n"
     ]
    },
    {
     "name": "stderr",
     "output_type": "stream",
     "text": [
      "[I 2024-10-30 15:18:43,989] Trial 38 finished with value: 0.5774706244468689 and parameters: {'lr': 0.00010022765576661615, 'num_neuron': 13, 'num_layer': 2, 'batch_size': 24, 'weight_decay': 8.142664793538356e-08}. Best is trial 13 with value: 0.5523158699274063.\n"
     ]
    },
    {
     "name": "stdout",
     "output_type": "stream",
     "text": [
      "Early stopping at epoch 804\n",
      "Validation loss: [0.3831181824207306, 0.8664280772209167, 0.862239420413971, 0.3954717516899109, 0.5663308501243591, 0.8885469436645508, 0.3193557560443878, 0.3226560950279236, 0.9088194966316223, 0.26173967123031616]\n",
      "Early stopping at epoch 177\n",
      "Early stopping at epoch 177\n",
      "Early stopping at epoch 299\n",
      "Early stopping at epoch 281\n",
      "Early stopping at epoch 222\n",
      "Early stopping at epoch 330\n",
      "Early stopping at epoch 335\n",
      "Early stopping at epoch 181\n",
      "Early stopping at epoch 177\n"
     ]
    },
    {
     "name": "stderr",
     "output_type": "stream",
     "text": [
      "[I 2024-10-30 15:19:02,430] Trial 39 finished with value: 0.5977847501635551 and parameters: {'lr': 0.0003266179758252781, 'num_neuron': 17, 'num_layer': 4, 'batch_size': 35, 'weight_decay': 3.350669806141372e-07}. Best is trial 13 with value: 0.5523158699274063.\n"
     ]
    },
    {
     "name": "stdout",
     "output_type": "stream",
     "text": [
      "Early stopping at epoch 349\n",
      "Validation loss: [0.375344842672348, 0.7935025691986084, 0.7358056306838989, 0.35302743315696716, 0.7622952461242676, 0.769077479839325, 0.3556671142578125, 0.41269591450691223, 1.2558025121688843, 0.1646287590265274]\n",
      "Early stopping at epoch 552\n",
      "Early stopping at epoch 821\n",
      "Early stopping at epoch 180\n",
      "Early stopping at epoch 177\n",
      "Early stopping at epoch 533\n",
      "Early stopping at epoch 454\n",
      "Early stopping at epoch 177\n",
      "Early stopping at epoch 201\n",
      "Early stopping at epoch 177\n"
     ]
    },
    {
     "name": "stderr",
     "output_type": "stream",
     "text": [
      "[I 2024-10-30 15:19:26,934] Trial 40 finished with value: 0.6558814898133278 and parameters: {'lr': 0.00021861056418758787, 'num_neuron': 10, 'num_layer': 3, 'batch_size': 32, 'weight_decay': 1.4115436393829983e-08}. Best is trial 13 with value: 0.5523158699274063.\n"
     ]
    },
    {
     "name": "stdout",
     "output_type": "stream",
     "text": [
      "Early stopping at epoch 811\n",
      "Validation loss: [0.6278983354568481, 0.6102780103683472, 1.268323540687561, 0.4432207942008972, 0.5739971995353699, 0.984536349773407, 0.40557536482810974, 0.4137382507324219, 1.030118465423584, 0.20112858712673187]\n",
      "Early stopping at epoch 614\n",
      "Early stopping at epoch 421\n",
      "Early stopping at epoch 963\n",
      "Early stopping at epoch 666\n",
      "Early stopping at epoch 592\n",
      "Early stopping at epoch 822\n",
      "Early stopping at epoch 327\n",
      "Early stopping at epoch 281\n",
      "Early stopping at epoch 267\n"
     ]
    },
    {
     "name": "stderr",
     "output_type": "stream",
     "text": [
      "[I 2024-10-30 15:19:59,040] Trial 41 finished with value: 0.5879651665687561 and parameters: {'lr': 0.00010580770981524663, 'num_neuron': 13, 'num_layer': 2, 'batch_size': 24, 'weight_decay': 8.727669853402617e-08}. Best is trial 13 with value: 0.5523158699274063.\n"
     ]
    },
    {
     "name": "stdout",
     "output_type": "stream",
     "text": [
      "Early stopping at epoch 281\n",
      "Validation loss: [0.20016735792160034, 0.9017361998558044, 0.8273398876190186, 0.4375770092010498, 0.7203701138496399, 0.8187639713287354, 0.35700660943984985, 0.3192254900932312, 0.9409968852996826, 0.356468141078949]\n",
      "Early stopping at epoch 678\n",
      "Early stopping at epoch 299\n",
      "Early stopping at epoch 312\n",
      "Early stopping at epoch 462\n",
      "Early stopping at epoch 590\n",
      "Early stopping at epoch 974\n",
      "Early stopping at epoch 240\n",
      "Early stopping at epoch 321\n",
      "Early stopping at epoch 177\n"
     ]
    },
    {
     "name": "stderr",
     "output_type": "stream",
     "text": [
      "[I 2024-10-30 15:20:30,485] Trial 42 finished with value: 0.6231501117348671 and parameters: {'lr': 0.00013855843790044951, 'num_neuron': 12, 'num_layer': 2, 'batch_size': 21, 'weight_decay': 4.954804351507355e-08}. Best is trial 13 with value: 0.5523158699274063.\n"
     ]
    },
    {
     "name": "stdout",
     "output_type": "stream",
     "text": [
      "Early stopping at epoch 653\n",
      "Validation loss: [0.24565860629081726, 0.9912734031677246, 1.3644076585769653, 0.39669203758239746, 0.6708929538726807, 0.7559135556221008, 0.3185789883136749, 0.3811953067779541, 0.8579491972923279, 0.2489394098520279]\n",
      "Early stopping at epoch 178\n",
      "Early stopping at epoch 177\n",
      "Early stopping at epoch 184\n",
      "Early stopping at epoch 177\n",
      "Early stopping at epoch 227\n",
      "Early stopping at epoch 377\n",
      "Early stopping at epoch 178\n",
      "Early stopping at epoch 177\n",
      "Early stopping at epoch 178\n"
     ]
    },
    {
     "name": "stderr",
     "output_type": "stream",
     "text": [
      "[I 2024-10-30 15:20:51,829] Trial 43 finished with value: 0.6897423774003982 and parameters: {'lr': 0.00031910115373829723, 'num_neuron': 14, 'num_layer': 2, 'batch_size': 18, 'weight_decay': 1.4006537969217203e-07}. Best is trial 13 with value: 0.5523158699274063.\n"
     ]
    },
    {
     "name": "stdout",
     "output_type": "stream",
     "text": [
      "Early stopping at epoch 570\n",
      "Validation loss: [0.4237974286079407, 1.1702765226364136, 1.505982756614685, 0.3984057903289795, 0.515859842300415, 0.6611373424530029, 0.49857035279273987, 0.4496346116065979, 1.0719481706619263, 0.20181095600128174]\n",
      "Early stopping at epoch 329\n",
      "Early stopping at epoch 177\n",
      "Early stopping at epoch 283\n",
      "Early stopping at epoch 346\n",
      "Early stopping at epoch 535\n",
      "Early stopping at epoch 623\n",
      "Early stopping at epoch 181\n",
      "Early stopping at epoch 374\n",
      "Early stopping at epoch 180\n"
     ]
    },
    {
     "name": "stderr",
     "output_type": "stream",
     "text": [
      "[I 2024-10-30 15:21:10,146] Trial 44 finished with value: 0.7530626058578491 and parameters: {'lr': 0.0001353664535163836, 'num_neuron': 13, 'num_layer': 2, 'batch_size': 25, 'weight_decay': 3.2443796941277437e-08}. Best is trial 13 with value: 0.5523158699274063.\n"
     ]
    },
    {
     "name": "stdout",
     "output_type": "stream",
     "text": [
      "Early stopping at epoch 177\n",
      "Validation loss: [0.286655068397522, 2.0288796424865723, 1.2525205612182617, 0.45714271068573, 0.4304666817188263, 1.1769717931747437, 0.3004146218299866, 0.41114261746406555, 0.8329342603683472, 0.35349810123443604]\n",
      "Early stopping at epoch 322\n",
      "Early stopping at epoch 235\n",
      "Early stopping at epoch 259\n",
      "Early stopping at epoch 257\n",
      "Early stopping at epoch 285\n",
      "Early stopping at epoch 572\n",
      "Early stopping at epoch 179\n",
      "Early stopping at epoch 225\n",
      "Early stopping at epoch 177\n"
     ]
    },
    {
     "name": "stderr",
     "output_type": "stream",
     "text": [
      "[I 2024-10-30 15:21:31,445] Trial 45 finished with value: 0.6316671520471573 and parameters: {'lr': 0.00021218612804820843, 'num_neuron': 12, 'num_layer': 3, 'batch_size': 23, 'weight_decay': 7.874578426497724e-08}. Best is trial 13 with value: 0.5523158699274063.\n"
     ]
    },
    {
     "name": "stdout",
     "output_type": "stream",
     "text": [
      "Early stopping at epoch 589\n",
      "Validation loss: [0.4449619650840759, 0.865774929523468, 1.2060669660568237, 0.394530713558197, 0.5950806736946106, 0.7036957144737244, 0.41206029057502747, 0.3871913552284241, 1.1394034624099731, 0.16790544986724854]\n",
      "Early stopping at epoch 455\n",
      "Early stopping at epoch 352\n",
      "Early stopping at epoch 223\n",
      "Early stopping at epoch 257\n",
      "Early stopping at epoch 747\n",
      "Early stopping at epoch 801\n",
      "Early stopping at epoch 177\n",
      "Early stopping at epoch 377\n",
      "Early stopping at epoch 188\n"
     ]
    },
    {
     "name": "stderr",
     "output_type": "stream",
     "text": [
      "[I 2024-10-30 15:21:57,874] Trial 46 finished with value: 0.6176153123378754 and parameters: {'lr': 0.0001041782170123647, 'num_neuron': 15, 'num_layer': 2, 'batch_size': 20, 'weight_decay': 6.905432578652642e-07}. Best is trial 13 with value: 0.5523158699274063.\n"
     ]
    },
    {
     "name": "stdout",
     "output_type": "stream",
     "text": [
      "Early stopping at epoch 192\n",
      "Validation loss: [0.3165176808834076, 0.7063922882080078, 1.2248724699020386, 0.4566766023635864, 0.6624739170074463, 0.8789289593696594, 0.335302472114563, 0.34053120017051697, 0.924961507320404, 0.32949602603912354]\n",
      "Early stopping at epoch 247\n",
      "Early stopping at epoch 423\n",
      "Early stopping at epoch 177\n",
      "Early stopping at epoch 234\n",
      "Early stopping at epoch 296\n",
      "Early stopping at epoch 416\n",
      "Early stopping at epoch 188\n",
      "Early stopping at epoch 177\n",
      "Early stopping at epoch 177\n"
     ]
    },
    {
     "name": "stderr",
     "output_type": "stream",
     "text": [
      "[I 2024-10-30 15:22:09,603] Trial 47 finished with value: 0.7329935699701309 and parameters: {'lr': 0.0005147131825593351, 'num_neuron': 10, 'num_layer': 2, 'batch_size': 41, 'weight_decay': 1.6181729983205574e-07}. Best is trial 13 with value: 0.5523158699274063.\n"
     ]
    },
    {
     "name": "stdout",
     "output_type": "stream",
     "text": [
      "Early stopping at epoch 195\n",
      "Validation loss: [0.4943748712539673, 1.4485098123550415, 1.2369672060012817, 0.4960533678531647, 0.5336349010467529, 0.8855083584785461, 0.27373796701431274, 0.4745265543460846, 1.0670452117919922, 0.4195774495601654]\n",
      "Early stopping at epoch 199\n",
      "Early stopping at epoch 182\n",
      "Early stopping at epoch 210\n",
      "Early stopping at epoch 204\n",
      "Early stopping at epoch 190\n",
      "Early stopping at epoch 222\n",
      "Early stopping at epoch 177\n",
      "Early stopping at epoch 177\n",
      "Early stopping at epoch 191\n"
     ]
    },
    {
     "name": "stderr",
     "output_type": "stream",
     "text": [
      "[I 2024-10-30 15:22:21,386] Trial 48 finished with value: 1.2212288916110992 and parameters: {'lr': 0.015112885335772673, 'num_neuron': 19, 'num_layer': 3, 'batch_size': 27, 'weight_decay': 5.986265433897067e-08}. Best is trial 13 with value: 0.5523158699274063.\n"
     ]
    },
    {
     "name": "stdout",
     "output_type": "stream",
     "text": [
      "Early stopping at epoch 203\n",
      "Validation loss: [0.6147568821907043, 5.079899311065674, 1.385925531387329, 1.2279316186904907, 0.6113917827606201, 0.8815726041793823, 0.5016729235649109, 0.6683135032653809, 0.9543002247810364, 0.28652453422546387]\n",
      "Early stopping at epoch 177\n",
      "Early stopping at epoch 177\n",
      "Early stopping at epoch 225\n",
      "Early stopping at epoch 178\n",
      "Early stopping at epoch 183\n",
      "Early stopping at epoch 178\n",
      "Early stopping at epoch 180\n",
      "Early stopping at epoch 177\n",
      "Early stopping at epoch 177\n"
     ]
    },
    {
     "name": "stderr",
     "output_type": "stream",
     "text": [
      "[I 2024-10-30 15:22:33,815] Trial 49 finished with value: 0.8395147159695625 and parameters: {'lr': 0.0009023312763430668, 'num_neuron': 8, 'num_layer': 5, 'batch_size': 30, 'weight_decay': 2.5041332596460007e-08}. Best is trial 13 with value: 0.5523158699274063.\n"
     ]
    },
    {
     "name": "stdout",
     "output_type": "stream",
     "text": [
      "Early stopping at epoch 187\n",
      "Validation loss: [0.6783896088600159, 0.8917067050933838, 1.8619134426116943, 0.9061877131462097, 0.6580027341842651, 1.1165767908096313, 0.329132080078125, 0.629479169845581, 1.1787093877792358, 0.14504952728748322]\n",
      "Best hyperparameters: {'lr': 0.00011481963239014913, 'num_neuron': 16, 'num_layer': 3, 'batch_size': 23, 'weight_decay': 5.703654784743073e-08}\n"
     ]
    }
   ],
   "source": [
    "best_model_path = 'Best_network/best_seq_model_V2.pth'  # File to save the best model\n",
    "best_val_loss = float('inf')\n",
    "\n",
    "# Hyperparameters to optimize: lr, # of neurons, # of layers\n",
    "def objective(trial):\n",
    "    global best_val_loss\n",
    "\n",
    "    val_loss_CV = []\n",
    "    model_state_dict = {}\n",
    "    # Hyperparameter search space\n",
    "    # lr = trial.suggest_float('lr', 5e-5, 5e-2,log=True)\n",
    "    lr = trial.suggest_float('lr', 1e-4, 1e-1,log=True)\n",
    "    num_neuron = trial.suggest_int('num_neuron',5,20)\n",
    "    num_layer = trial.suggest_int('num_layer',2,5)\n",
    "    batch_size = trial.suggest_int('batch_size',16,45)\n",
    "    weight_decay = trial.suggest_float('weight_decay', 1e-8, 1e-6,log=True)\n",
    "\n",
    "    hidden_sizes = [num_neuron]*num_layer # Mapping \n",
    "\n",
    "    # Define the starting epoch of checking early stopping and maximum number of epochs\n",
    "    num_epochs = 1000\n",
    "    warmup_epochs = 150\n",
    "\n",
    "    for fold in range(10):\n",
    "        # Load dataset for the current fold\n",
    "        train_dataset = train_dataset_CV[fold]\n",
    "        val_dataset = val_dataset_CV[fold]\n",
    "        train_loader = DataLoader(train_dataset,batch_size=batch_size,shuffle=True)\n",
    "        val_loader = DataLoader(val_dataset,batch_size=16,shuffle=False)\n",
    "        \n",
    "        # Initialize the model, loss function, optimizer, and early stopping\n",
    "        model = network(input_size,hidden_sizes,output_size)\n",
    "        criterion = nn.MSELoss()\n",
    "        optimizer = optim.Adam(model.parameters(),lr = lr,weight_decay=weight_decay)\n",
    "        early_stopping = EarlyStopping(patience=25, min_delta=5e-5)\n",
    "\n",
    "        # Training loop\n",
    "        for epoch in range(num_epochs):\n",
    "            # Training phase\n",
    "            model.train()\n",
    "            for batch in train_loader:\n",
    "                inputs, labels = batch\n",
    "                \n",
    "                optimizer.zero_grad()\n",
    "                outputs = model(inputs)\n",
    "                loss = criterion(outputs, labels)\n",
    "                loss.backward()\n",
    "                optimizer.step()\n",
    "            \n",
    "            # Validation phase\n",
    "            model.eval()\n",
    "            val_loss = 0.0\n",
    "            with torch.no_grad():\n",
    "                for inputs, targets in val_loader:\n",
    "                    outputs = model(inputs)\n",
    "                    loss = criterion(outputs, targets)\n",
    "                    val_loss += loss.item()\n",
    "            val_loss /= len(val_loader)\n",
    "\n",
    "            # Check early stopping condition\n",
    "            if epoch > warmup_epochs:\n",
    "                early_stopping(val_loss)\n",
    "                if early_stopping.early_stop:\n",
    "                    print(f\"Early stopping at epoch {epoch+1}\")\n",
    "                    break\n",
    "        \n",
    "        val_loss_CV.append(val_loss)\n",
    "        model_state_dict[fold] = model.state_dict()\n",
    "\n",
    "    val_loss_overall = np.mean(val_loss_CV)\n",
    "    print(f\"Validation loss: {val_loss_CV}\")\n",
    "    # Check if the current validation loss is the best\n",
    "    if val_loss_overall < best_val_loss:\n",
    "        best_val_loss = val_loss_overall\n",
    "        # Save the best model\n",
    "        torch.save({'model_state':model_state_dict,\n",
    "                    'lr':lr,\n",
    "                    'num_neuron':num_neuron,\n",
    "                    'num_layer':num_layer,\n",
    "                    'batch_size':batch_size,\n",
    "                    'weight_decay':weight_decay}, best_model_path)\n",
    "    \n",
    "    return val_loss_overall\n",
    "\n",
    "\n",
    "sampler = optuna.samplers.TPESampler(seed=seed_)  # Make the sampler behave in a deterministic way.\n",
    "study = optuna.create_study(sampler=sampler,direction='minimize')\n",
    "# Run the optimization\n",
    "study.optimize(objective, n_trials=50)\n",
    "\n",
    "# Print the best parameters\n",
    "print(\"Best hyperparameters:\", study.best_params)"
   ]
  },
  {
   "cell_type": "markdown",
   "metadata": {},
   "source": [
    "Predict empirical parameters using the neural network"
   ]
  },
  {
   "cell_type": "code",
   "execution_count": 50,
   "metadata": {},
   "outputs": [],
   "source": [
    "best_model_dict = torch.load(best_model_path)\n",
    "hidden_sizes = [best_model_dict['num_neuron']]*best_model_dict['num_layer']\n",
    "\n",
    "# Test features as tensor\n",
    "X_train_PCA_tensor = torch.tensor(X_train_PCA,dtype = torch.float32)\n",
    "X_test_in_PCA_tensor = torch.tensor(X_test_in_PCA,dtype=torch.float32)\n",
    "X_test_out_PCA_tensor = torch.tensor(X_test_out_PCA,dtype=torch.float32)\n",
    "\n",
    "b_train_pred = []\n",
    "b_test_in_pred = []\n",
    "b_test_out_pred = []\n",
    "\n",
    "Q_train_pred = []\n",
    "Q_test_in_pred = []\n",
    "Q_test_out_pred = []\n",
    "for fold in range(10):\n",
    "    # Load the model for the current fold\n",
    "    model = network(input_size,hidden_sizes,output_size)\n",
    "    model.load_state_dict(best_model_dict['model_state'][fold])\n",
    "\n",
    "    # Evaluate the model with the completed training set and test sets\n",
    "    model.eval()\n",
    "    with torch.no_grad():\n",
    "        Y_train_scaled_pred = model(X_train_PCA_tensor).numpy()\n",
    "        Y_test_in_scaled_pred = model(X_test_in_PCA_tensor).numpy()\n",
    "        Y_test_out_scaled_pred = model(X_test_out_PCA_tensor).numpy()\n",
    "\n",
    "    # Convert predicted values back to the original scale\n",
    "    b_train_pred_fold = np.exp(y_scaler.inverse_transform(Y_train_scaled_pred))\n",
    "    b_test_in_pred_fold = np.exp(y_scaler.inverse_transform(Y_test_in_scaled_pred))\n",
    "    b_test_out_pred_fold = np.exp(y_scaler.inverse_transform(Y_test_out_scaled_pred))\n",
    "\n",
    "    \n",
    "    Q_train_pred_fold = []\n",
    "    for i in range(num_training_cells):\n",
    "        b = b_train_pred_fold[i]\n",
    "        Q_train_pred_fold.append(np.clip(empirical_model_curve_fit(N_train[i],*b),0,1))\n",
    "    \n",
    "    Q_test_in_pred_fold = []\n",
    "    for i in range(num_test_in_cells):\n",
    "        b = b_test_in_pred_fold[i]\n",
    "        Q_test_in_pred_fold.append(np.clip(empirical_model_curve_fit(N_test_in[i],*b),0,1))\n",
    "\n",
    "    Q_test_out_pred_fold = []\n",
    "    for i in range(num_test_out_cells):\n",
    "        b = b_test_out_pred_fold[i]\n",
    "        Q_test_out_pred_fold.append(np.clip(empirical_model_curve_fit(N_test_out[i],*b),0,1))\n",
    "    \n",
    "    # Save the results from the current fold\n",
    "    b_train_pred.append(np.array(b_train_pred_fold))\n",
    "    b_test_in_pred.append(np.array(b_test_in_pred_fold))\n",
    "    b_test_out_pred.append(np.array(b_test_out_pred_fold))\n",
    "\n",
    "    Q_train_pred.append(np.array(Q_train_pred_fold))\n",
    "    Q_test_in_pred.append(np.array(Q_test_in_pred_fold))\n",
    "    Q_test_out_pred.append(np.array(Q_test_out_pred_fold))\n",
    "\n",
    "\n",
    "# Write the results to files\n",
    "with open('Empirical parameter results/seq_NN_V2/b_train_pred.pkl','wb') as f:\n",
    "    pickle.dump(b_train_pred,f)\n",
    "\n",
    "with open('Empirical parameter results/seq_NN_V2/b_test_in_pred.pkl','wb') as f:\n",
    "    pickle.dump(b_test_in_pred,f)\n",
    "\n",
    "with open('Empirical parameter results/seq_NN_V2/b_test_out_pred.pkl','wb') as f:\n",
    "    pickle.dump(b_test_out_pred,f)\n",
    "\n",
    "with open('Empirical parameter results/seq_NN_V2/Q_train_pred.pkl','wb') as f:\n",
    "    pickle.dump(Q_train_pred,f)\n",
    "\n",
    "with open('Empirical parameter results/seq_NN_V2/Q_test_in_pred.pkl','wb') as f:\n",
    "    pickle.dump(Q_test_in_pred,f)\n",
    "\n",
    "with open('Empirical parameter results/seq_NN_V2/Q_test_out_pred.pkl','wb') as f:\n",
    "    pickle.dump(Q_test_out_pred,f)\n"
   ]
  },
  {
   "cell_type": "markdown",
   "metadata": {},
   "source": [
    "Evaluate the prediction"
   ]
  },
  {
   "cell_type": "code",
   "execution_count": null,
   "metadata": {},
   "outputs": [
    {
     "name": "stdout",
     "output_type": "stream",
     "text": [
      "Mean MAE training: 2.32\n",
      "Mean MAE test in: 3.00\n",
      "Mean MAE test out: 15.98\n",
      "Mean RMSE training: 3.06\n",
      "Mean RMSE test in: 4.05\n",
      "Mean RMSE test out: 21.73\n"
     ]
    }
   ],
   "source": [
    "MAE_training = []\n",
    "MAE_test_in = []\n",
    "MAE_test_out = []\n",
    "\n",
    "RMSE_training = []\n",
    "RMSE_test_in = []\n",
    "RMSE_test_out = []\n",
    "\n",
    "for fold in range(10):\n",
    "    MAE_training_fold = []\n",
    "    MAE_test_in_fold = []\n",
    "    MAE_test_out_fold = []\n",
    "\n",
    "    RMSE_training_fold = []\n",
    "    RMSE_test_in_fold = []\n",
    "    RMSE_test_out_fold = []\n",
    "\n",
    "    for i in range(num_training_cells):\n",
    "        MAE_training_fold.append(mean_absolute_error(Q_train[i],Q_train_pred[fold][i]))\n",
    "        RMSE_training_fold.append(root_mean_squared_error(Q_train[i],Q_train_pred[fold][i]))\n",
    "\n",
    "    for i in range(num_test_in_cells):\n",
    "        MAE_test_in_fold.append(mean_absolute_error(Q_test_in[i],Q_test_in_pred[fold][i]))\n",
    "        RMSE_test_in_fold.append(root_mean_squared_error(Q_test_in[i],Q_test_in_pred[fold][i]))\n",
    "\n",
    "    for i in range(num_test_out_cells):\n",
    "        MAE_test_out_fold.append(mean_absolute_error(Q_test_out[i],Q_test_out_pred[fold][i]))\n",
    "        RMSE_test_out_fold.append(root_mean_squared_error(Q_test_out[i],Q_test_out_pred[fold][i]))\n",
    "\n",
    "    MAE_training.append(np.mean(MAE_training_fold)*100)\n",
    "    MAE_test_in.append(np.mean(MAE_test_in_fold)*100)\n",
    "    MAE_test_out.append(np.mean(MAE_test_out_fold)*100)\n",
    "\n",
    "    RMSE_training.append(np.mean(RMSE_training_fold)*100)\n",
    "    RMSE_test_in.append(np.mean(RMSE_test_in_fold)*100)\n",
    "    RMSE_test_out.append(np.mean(RMSE_test_out_fold)*100)\n",
    "\n",
    "result_dict = {'MAE_training':MAE_training,\n",
    "                'MAE_test_in':MAE_test_in,\n",
    "                'MAE_test_out':MAE_test_out,\n",
    "                'RMSE_training':RMSE_training,\n",
    "                'RMSE_test_in':RMSE_test_in,\n",
    "                'RMSE_test_out':RMSE_test_out}\n",
    "\n",
    "with open('Empirical_parameter_results/seq_NN_V2/result_dict.pkl','wb') as f:\n",
    "    pickle.dump(result_dict,f)\n",
    "\n",
    "mean_MAE_training = np.mean(MAE_training)\n",
    "mean_MAE_test_in = np.mean(MAE_test_in)\n",
    "mean_MAE_test_out = np.mean(MAE_test_out)\n",
    "\n",
    "mean_RMSE_training = np.mean(RMSE_training)\n",
    "mean_RMSE_test_in = np.mean(RMSE_test_in)\n",
    "mean_RMSE_test_out = np.mean(RMSE_test_out)\n",
    "\n",
    "print(f\"Mean MAE training: {mean_MAE_training:.2f}\")\n",
    "print(f\"Mean MAE test in: {mean_MAE_test_in:.2f}\")\n",
    "print(f\"Mean MAE test out: {mean_MAE_test_out:.2f}\")\n",
    "\n",
    "print(f\"Mean RMSE training: {mean_RMSE_training:.2f}\")\n",
    "print(f\"Mean RMSE test in: {mean_RMSE_test_in:.2f}\")\n",
    "print(f\"Mean RMSE test out: {mean_RMSE_test_out:.2f}\")"
   ]
  },
  {
   "cell_type": "code",
   "execution_count": 52,
   "metadata": {},
   "outputs": [
    {
     "name": "stdout",
     "output_type": "stream",
     "text": [
      "MAE training: [2.254962400218214, 2.1771970879089872, 2.669957631617043, 1.9455108934064875, 2.192069799484197, 1.9506564321878022, 2.4348079606098185, 2.6332592645473247, 2.5569290723312514, 2.366408315679782]\n",
      "MAE test in: [3.3655910541803906, 2.6773868984177067, 3.145953080471129, 2.6052591802561973, 2.6991394989077775, 3.32692579762959, 2.684752414324961, 3.049348910615716, 3.010770956116634, 3.403895678032968]\n",
      "MAE test out: [16.591792070878412, 15.54662660086555, 18.13388989257138, 17.477610188835197, 16.871421643123806, 16.904575493254928, 14.741220901542063, 17.55286152124765, 13.977633647569343, 12.044534820180578]\n"
     ]
    }
   ],
   "source": [
    "print(f\"MAE training: {MAE_training}\")\n",
    "print(f\"MAE test in: {MAE_test_in}\")\n",
    "print(f\"MAE test out: {MAE_test_out}\")"
   ]
  }
 ],
 "metadata": {
  "kernelspec": {
   "display_name": "Python 3",
   "language": "python",
   "name": "python3"
  },
  "language_info": {
   "codemirror_mode": {
    "name": "ipython",
    "version": 3
   },
   "file_extension": ".py",
   "mimetype": "text/x-python",
   "name": "python",
   "nbconvert_exporter": "python",
   "pygments_lexer": "ipython3",
   "version": "3.10.11"
  }
 },
 "nbformat": 4,
 "nbformat_minor": 2
}
