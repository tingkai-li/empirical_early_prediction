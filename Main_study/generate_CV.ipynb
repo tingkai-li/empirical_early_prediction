{
 "cells": [
  {
   "cell_type": "markdown",
   "metadata": {},
   "source": [
    "# Make 10-fold CV training dataset for all NN-based models"
   ]
  },
  {
   "cell_type": "code",
   "execution_count": 2,
   "metadata": {},
   "outputs": [],
   "source": [
    "from sklearn.model_selection import KFold\n",
    "import numpy as np\n",
    "import pandas as pd\n"
   ]
  },
  {
   "cell_type": "code",
   "execution_count": 18,
   "metadata": {},
   "outputs": [],
   "source": [
    "training_cells = pd.read_csv(\"training_V2.csv\",header=None).to_numpy(dtype=str).reshape(-1,).tolist()\n",
    "training_groups = np.array([cell[:-2] for cell in training_cells])\n",
    "training_groups_unique = np.array(list(set(training_groups)))\n",
    "\n",
    "kf = KFold(n_splits=10, shuffle=True, random_state=42)\n",
    "index = kf.split(training_groups_unique)\n",
    "\n",
    "training_cells_CV = {}\n",
    "test_cells_CV = {}\n",
    "\n",
    "for i, (train_index, test_index) in enumerate(index):\n",
    "    # print(f\"Fold {i}:\")\n",
    "    # print(f\"  Train: index={train_index}\")\n",
    "    # print(f\"  Test:  index={test_index}\")\n",
    "    training_groups_fold = training_groups_unique[train_index]\n",
    "    training_index_fold = [i for i, group in enumerate(training_groups) if group in training_groups_fold]\n",
    "    test_groups_fold = training_groups_unique[test_index]\n",
    "    test_index_fold = [i for i, group in enumerate(training_groups) if group in test_groups_fold]\n",
    "\n",
    "    training_cells_CV[i] = training_index_fold\n",
    "    test_cells_CV[i] = test_index_fold\n"
   ]
  },
  {
   "cell_type": "code",
   "execution_count": 20,
   "metadata": {},
   "outputs": [],
   "source": [
    "import pickle\n",
    "with open(\"training_cells_CV.pkl\", \"wb\") as f:\n",
    "    pickle.dump(training_cells_CV, f)\n",
    "with open(\"val_cells_CV.pkl\", \"wb\") as f:\n",
    "    pickle.dump(test_cells_CV, f)"
   ]
  }
 ],
 "metadata": {
  "kernelspec": {
   "display_name": "Python 3",
   "language": "python",
   "name": "python3"
  },
  "language_info": {
   "codemirror_mode": {
    "name": "ipython",
    "version": 3
   },
   "file_extension": ".py",
   "mimetype": "text/x-python",
   "name": "python",
   "nbconvert_exporter": "python",
   "pygments_lexer": "ipython3",
   "version": "3.10.11"
  }
 },
 "nbformat": 4,
 "nbformat_minor": 2
}
